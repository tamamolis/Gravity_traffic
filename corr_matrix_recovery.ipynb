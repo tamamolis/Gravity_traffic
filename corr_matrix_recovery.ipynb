{
 "cells": [
  {
   "cell_type": "code",
   "execution_count": 2,
   "metadata": {},
   "outputs": [],
   "source": [
    "from IPython import get_ipython\n",
    "get_ipython().magic('reset -sf')"
   ]
  },
  {
   "cell_type": "code",
   "execution_count": 3,
   "metadata": {},
   "outputs": [],
   "source": [
    "import pandas as pd\n",
    "import numpy as np\n",
    "# np.set_printoptions(suppress=True) # чтоб без e\n",
    "from matplotlib import pyplot as plt\n",
    "from mpl_toolkits.mplot3d import axes3d, Axes3D\n",
    "import time\n",
    "from pylab import *\n",
    "\n",
    "%matplotlib inline"
   ]
  },
  {
   "cell_type": "markdown",
   "metadata": {},
   "source": [
    "__Блок обработки данных__,\n",
    "запущено на старых данных 2018 года.\n",
    "\n",
    "У них несколько проблем, __проблема первая__: нужно было выровнить Москву и область, умножив значения москвичей на 1.62. Добавили столбец принадлежности Москве, умножили. __Вторая проблема__: в этих данных i с j не всегда пересекаются. Не получается вернуть издержку. Возвращаю в таких случаях 0."
   ]
  },
  {
   "cell_type": "code",
   "execution_count": 4,
   "metadata": {},
   "outputs": [],
   "source": [
    "df = pd.read_csv('traffic_moscow.csv', header=None)\n",
    "df.columns = [\"i\", \"j\", \"amt\", \"t\", \"s\"]\n",
    "\n",
    "def make_index(i, j):\n",
    "    residents = [1, 2, 3, 4, 5, 6, 7, 8, 9, 10]\n",
    "    if int(i) in residents:\n",
    "        return 1 # живут в Москве\n",
    "    else:\n",
    "        return 0 # живут в области\n",
    "\n",
    "df['r'] = df.apply(lambda row: make_index(row['i'], \n",
    "        row['j']), axis=1) # добавили столбец принадлежности москвичам\n",
    "\n",
    "def amt_for_residents(df): # умножили значения москвичей на 1.62\n",
    "    for i in range(df.shape[0]):\n",
    "        df.loc[i, 'amt'] *= 1.62 if df.loc[i, 'r'] == 1 else 1\n",
    "    return df\n",
    "\n",
    "df = amt_for_residents(df)"
   ]
  },
  {
   "cell_type": "code",
   "execution_count": 5,
   "metadata": {},
   "outputs": [
    {
     "data": {
      "text/html": [
       "<div>\n",
       "<style scoped>\n",
       "    .dataframe tbody tr th:only-of-type {\n",
       "        vertical-align: middle;\n",
       "    }\n",
       "\n",
       "    .dataframe tbody tr th {\n",
       "        vertical-align: top;\n",
       "    }\n",
       "\n",
       "    .dataframe thead th {\n",
       "        text-align: right;\n",
       "    }\n",
       "</style>\n",
       "<table border=\"1\" class=\"dataframe\">\n",
       "  <thead>\n",
       "    <tr style=\"text-align: right;\">\n",
       "      <th></th>\n",
       "      <th>i</th>\n",
       "      <th>j</th>\n",
       "      <th>amt</th>\n",
       "      <th>t</th>\n",
       "      <th>s</th>\n",
       "      <th>r</th>\n",
       "    </tr>\n",
       "  </thead>\n",
       "  <tbody>\n",
       "    <tr>\n",
       "      <th>0</th>\n",
       "      <td>1</td>\n",
       "      <td>1</td>\n",
       "      <td>64.80</td>\n",
       "      <td>26</td>\n",
       "      <td>2.2</td>\n",
       "      <td>1</td>\n",
       "    </tr>\n",
       "    <tr>\n",
       "      <th>1</th>\n",
       "      <td>1</td>\n",
       "      <td>2</td>\n",
       "      <td>6.48</td>\n",
       "      <td>49</td>\n",
       "      <td>8.1</td>\n",
       "      <td>1</td>\n",
       "    </tr>\n",
       "    <tr>\n",
       "      <th>2</th>\n",
       "      <td>1</td>\n",
       "      <td>3</td>\n",
       "      <td>4.86</td>\n",
       "      <td>35</td>\n",
       "      <td>6.8</td>\n",
       "      <td>1</td>\n",
       "    </tr>\n",
       "    <tr>\n",
       "      <th>3</th>\n",
       "      <td>1</td>\n",
       "      <td>4</td>\n",
       "      <td>3.24</td>\n",
       "      <td>75</td>\n",
       "      <td>9.3</td>\n",
       "      <td>1</td>\n",
       "    </tr>\n",
       "    <tr>\n",
       "      <th>4</th>\n",
       "      <td>1</td>\n",
       "      <td>5</td>\n",
       "      <td>3.24</td>\n",
       "      <td>30</td>\n",
       "      <td>8.0</td>\n",
       "      <td>1</td>\n",
       "    </tr>\n",
       "  </tbody>\n",
       "</table>\n",
       "</div>"
      ],
      "text/plain": [
       "   i  j    amt   t    s  r\n",
       "0  1  1  64.80  26  2.2  1\n",
       "1  1  2   6.48  49  8.1  1\n",
       "2  1  3   4.86  35  6.8  1\n",
       "3  1  4   3.24  75  9.3  1\n",
       "4  1  5   3.24  30  8.0  1"
      ]
     },
     "execution_count": 5,
     "metadata": {},
     "output_type": "execute_result"
    }
   ],
   "source": [
    "df.head()"
   ]
  },
  {
   "cell_type": "code",
   "execution_count": 6,
   "metadata": {},
   "outputs": [
    {
     "name": "stdout",
     "output_type": "stream",
     "text": [
      "2571.36 2571.3599999999997\n"
     ]
    }
   ],
   "source": [
    "L_i = df.groupby('i')['amt'].sum().reset_index()\n",
    "W_j = df.groupby('j')['amt'].sum().reset_index()\n",
    "\n",
    "total_i = L_i['amt'].sum()\n",
    "total_j = W_j['amt'].sum()\n",
    "\n",
    "print(total_i, total_j)"
   ]
  },
  {
   "cell_type": "markdown",
   "metadata": {},
   "source": [
    "__Блок расчётов__"
   ]
  },
  {
   "cell_type": "code",
   "execution_count": 7,
   "metadata": {},
   "outputs": [],
   "source": [
    "def costs_func(i, j, alpha):\n",
    "    rows = df.loc[df['i'] == i]\n",
    "    columns = rows.loc[df['j'] == j]\n",
    "    t = columns['t'] # потому что издержки -- это время\n",
    "    try:\n",
    "        t = int(t)\n",
    "        return np.exp(np.dot(-alpha, t))\n",
    "    except TypeError: # если не пересекается район i с районом j\n",
    "        return 0\n",
    "\n",
    "def iteration_method(L_i, W_j, alpha):\n",
    "    A_i, B_j = 1, 1\n",
    "    list_A_i, list_B_j = [], []\n",
    "    n = L_i.shape[0] # количество районов\n",
    "    for i in range(1, n+1): # нумерация районов начинается с 1\n",
    "        for j in range(1, n+1):\n",
    "            value_i = int(L_i.loc[L_i['i'] == i]['amt']) # L_i\n",
    "            value_j = int(W_j.loc[W_j['j'] == j]['amt']) # W_j\n",
    "            denominator_i = B_j*value_i*costs_func(i, j, alpha)\n",
    "            denominator_j = A_i*value_j*costs_func(i, j, alpha)\n",
    "            if denominator_i != 0: # проверка из-за плохих данных с нулями\n",
    "                A_i += denominator_i \n",
    "                list_A_i.append(1 / A_i)\n",
    "            else:\n",
    "                list_A_i.append(0)\n",
    "            if denominator_j != 0:\n",
    "                B_j += denominator_j\n",
    "                list_B_j.append(1 / B_j)\n",
    "            else:\n",
    "                list_B_j.append(0)\n",
    "\n",
    "    return list_A_i, list_B_j\n",
    "\n",
    "def gravity_func(alpha):\n",
    "    n = L_i.shape[0] # количество районов\n",
    "    d_i_j = np.zeros((n+1, n+1))\n",
    "    list_A_i, list_B_j = iteration_method(L_i, W_j, alpha)\n",
    "    # добавлено сюда, чтобы считать с нужным alpha\n",
    "    for i in range(1, n+1): # нумерация районов начинается с 1\n",
    "        for j in range(1, n+1):\n",
    "            value_i = int(L_i.loc[L_i['i'] == i]['amt'])\n",
    "            value_j = int(W_j.loc[W_j['j'] == j]['amt'])\n",
    "            cost = costs_func(i, j, alpha)\n",
    "            if cost!=0:\n",
    "                d_i_j[i][j] = (list_A_i[i]*list_B_j[j]*value_i*value_j)*cost\n",
    "                #умножить потому что -alpha в функции\n",
    "            else:\n",
    "                d_i_j[i][j] = 0\n",
    "    return d_i_j\n",
    "\n",
    "def minimaze_func(real_d_i_j, alpha):\n",
    "    d_i_j = gravity_func(alpha) # добавлено сюда, чтобы считать с нужным alpha\n",
    "    n = L_i.shape[0] # количество районов\n",
    "    s = 0\n",
    "    for i in range(n):\n",
    "        for j in range(n):\n",
    "            s += (real_d_i_j[i][j] - d_i_j[i][j])**2\n",
    "    return s\n",
    "\n",
    "def get_real_d_i_j(df): # чтобы натыкать нулей в местах, где нет пересечений\n",
    "    n = L_i.shape[0]\n",
    "    real_d = np.zeros((n+1, n+1))\n",
    "    for i in range(1, n+1):\n",
    "        for j in range(1, n+1):\n",
    "            value = df.loc[df['i'] == i]\n",
    "            value = value.loc[value['j'] == j]['amt']\n",
    "            try:\n",
    "                value = int(value)\n",
    "            except TypeError: # если не пересекается район i с районом j\n",
    "                value = 0\n",
    "            real_d[i][j] = value\n",
    "    return real_d"
   ]
  },
  {
   "cell_type": "markdown",
   "metadata": {},
   "source": [
    "__Блок подгоняния и дробления отрезков, графики__"
   ]
  },
  {
   "cell_type": "code",
   "execution_count": 8,
   "metadata": {},
   "outputs": [
    {
     "name": "stderr",
     "output_type": "stream",
     "text": [
      "/usr/local/Cellar/ipython/7.1.1/libexec/vendor/lib/python3.7/site-packages/ipykernel_launcher.py:19: RuntimeWarning: overflow encountered in double_scalars\n",
      "/usr/local/Cellar/ipython/7.1.1/libexec/vendor/lib/python3.7/site-packages/ipykernel_launcher.py:20: RuntimeWarning: overflow encountered in double_scalars\n",
      "/usr/local/Cellar/ipython/7.1.1/libexec/vendor/lib/python3.7/site-packages/ipykernel_launcher.py:19: RuntimeWarning: invalid value encountered in double_scalars\n",
      "/usr/local/Cellar/ipython/7.1.1/libexec/vendor/lib/python3.7/site-packages/ipykernel_launcher.py:20: RuntimeWarning: invalid value encountered in double_scalars\n"
     ]
    },
    {
     "name": "stdout",
     "output_type": "stream",
     "text": [
      "alpha:  0.0 min:  117039.99434314598\n",
      "alpha:  0.01 min:  117039.98077377593\n",
      "alpha:  0.02 min:  117039.93531075206\n",
      "alpha:  0.03 min:  117039.78566795413\n",
      "alpha:  0.04 min:  117039.30590902446\n",
      "alpha:  0.05 min:  117037.82454501034\n",
      "alpha:  0.06 min:  117033.47909015707\n",
      "alpha:  0.07 min:  117021.55541929668\n",
      "alpha:  0.08 min:  116991.42632242411\n",
      "alpha:  0.09 min:  116922.06240810403\n",
      "alpha:  0.1 min:  116777.2497791617\n",
      "alpha:  0.11 min:  116504.99827656975\n",
      "alpha:  0.12 min:  116049.8137719443\n",
      "alpha:  0.13 min:  115378.32212085077\n",
      "alpha:  0.14 min:  114493.6879479648\n",
      "alpha:  0.15 min:  113417.68731550305\n",
      "alpha:  0.16 min:  112168.29231512832\n",
      "alpha:  0.17 min:  110771.30035299927\n",
      "alpha:  0.18 min:  109291.88570136619\n",
      "alpha:  0.19 min:  107844.429498997\n",
      "alpha:  0.2 min:  106571.44326018143\n",
      "alpha:  0.21 min:  105611.24367881556\n",
      "alpha:  0.22 min:  105067.58958337724\n",
      "alpha:  0.23 min:  104987.059211989\n",
      "alpha:  0.24 min:  105352.11105358912\n",
      "alpha:  0.25 min:  106092.05085768277\n",
      "alpha:  0.26 min:  107104.29144089243\n",
      "alpha:  0.27 min:  108276.47366034899\n",
      "alpha:  0.28 min:  109504.1911008159\n",
      "alpha:  0.29 min:  110702.57692606529\n",
      "alpha:  0.3 min:  111811.59443642723\n",
      "alpha:  0.31 min:  112795.89499942987\n",
      "alpha:  0.32 min:  113640.95779556649\n",
      "alpha:  0.33 min:  114347.52546093627\n",
      "alpha:  0.34 min:  114926.00290653022\n",
      "alpha:  0.35000000000000003 min:  115391.80951567893\n",
      "alpha:  0.36 min:  115762.03311432373\n",
      "alpha:  0.37 min:  116053.31289711289\n",
      "alpha:  0.38 min:  116280.68701974004\n",
      "alpha:  0.39 min:  116457.1063423316\n",
      "alpha:  0.4 min:  116593.35990332608\n",
      "alpha:  0.41000000000000003 min:  116698.22560953413\n",
      "alpha:  0.42 min:  116778.72319929057\n",
      "alpha:  0.43 min:  116840.395602148\n",
      "alpha:  0.44 min:  116887.57858876638\n",
      "alpha:  0.45 min:  116923.63995404444\n",
      "alpha:  0.46 min:  116951.18197902493\n",
      "alpha:  0.47000000000000003 min:  116972.20763622617\n",
      "alpha:  0.48 min:  116988.2541881844\n",
      "alpha:  0.49 min:  117000.49898796577\n"
     ]
    }
   ],
   "source": [
    "real_d_i_j = get_real_d_i_j(df)\n",
    "\n",
    "alpha_list = []\n",
    "minimize_list =[]\n",
    "for alpha in np.arange(0, 0.5, 0.01):\n",
    "    value = minimaze_func(real_d_i_j, alpha)\n",
    "    print('alpha: ', alpha, 'min: ', value)\n",
    "    alpha_list.append(alpha)\n",
    "    minimize_list.append(value)"
   ]
  },
  {
   "cell_type": "markdown",
   "metadata": {},
   "source": [
    "__Графики с $\\alpha$ лежащим в промежутке $[0; 0.5]$ с шагом $h = 0.01$__"
   ]
  },
  {
   "cell_type": "code",
   "execution_count": 9,
   "metadata": {},
   "outputs": [
    {
     "data": {
      "image/png": "[encoded data removed]",
      "text/plain": [
       "<Figure size 432x288 with 1 Axes>"
      ]
     },
     "metadata": {
      "needs_background": "light"
     },
     "output_type": "display_data"
    }
   ],
   "source": [
    "plt.plot(alpha_list, minimize_list, 'ro')\n",
    "plt.title('зависимость минимизирующего функционала от alpha')\n",
    "plt.xlabel('alpha')\n",
    "plt.ylabel('минимизирующий функционал') # см. функцию  minimaze_func\n",
    "# xlim(0, 0.2)\n",
    "# ylim(5000, 10000)\n",
    "plt.show()"
   ]
  },
  {
   "cell_type": "code",
   "execution_count": 10,
   "metadata": {},
   "outputs": [
    {
     "data": {
      "image/png": "[encoded data removed]",
      "text/plain": [
       "<Figure size 432x288 with 1 Axes>"
      ]
     },
     "metadata": {
      "needs_background": "light"
     },
     "output_type": "display_data"
    }
   ],
   "source": [
    "# более приближенный график\n",
    "plt.plot(alpha_list, minimize_list, 'ro')\n",
    "xlim(0.2, 0.3)\n",
    "plt.show()"
   ]
  },
  {
   "cell_type": "markdown",
   "metadata": {},
   "source": [
    "__Графики с $\\alpha$ лежащим в промежутке $[0.22; 0.24]$ с шагом $h = 0.001$__"
   ]
  },
  {
   "cell_type": "code",
   "execution_count": 11,
   "metadata": {},
   "outputs": [
    {
     "name": "stdout",
     "output_type": "stream",
     "text": [
      "alpha:  0.22 min:  105067.58958337724\n",
      "alpha:  0.221 min:  105038.49323935201\n",
      "alpha:  0.222 min:  105014.09365270371\n",
      "alpha:  0.223 min:  104994.39454984196\n",
      "alpha:  0.224 min:  104979.39302151898\n",
      "alpha:  0.225 min:  104969.0796079354\n",
      "alpha:  0.226 min:  104963.438402835\n",
      "alpha:  0.227 min:  104962.44717555228\n",
      "alpha:  0.228 min:  104966.07750987848\n",
      "alpha:  0.229 min:  104974.29495853576\n",
      "alpha:  0.23 min:  104987.059211989\n",
      "alpha:  0.231 min:  105004.32428028695\n",
      "alpha:  0.232 min:  105026.03868660168\n",
      "alpha:  0.233 min:  105052.14567113192\n",
      "alpha:  0.234 min:  105082.58340404648\n",
      "alpha:  0.23500000000000001 min:  105117.28520616889\n",
      "alpha:  0.23600000000000002 min:  105156.17977614183\n",
      "alpha:  0.23700000000000002 min:  105199.19142285848\n",
      "alpha:  0.23800000000000002 min:  105246.24030200273\n",
      "alpha:  0.23900000000000002 min:  105297.24265560528\n"
     ]
    }
   ],
   "source": [
    "real_d_i_j = get_real_d_i_j(df)\n",
    "\n",
    "alpha_list = []\n",
    "minimize_list =[]\n",
    "for alpha in np.arange(0.22, 0.24, 0.001):\n",
    "    value = minimaze_func(real_d_i_j, alpha)\n",
    "    print('alpha: ', alpha, 'min: ', value)\n",
    "    alpha_list.append(alpha)\n",
    "    minimize_list.append(value)"
   ]
  },
  {
   "cell_type": "code",
   "execution_count": 12,
   "metadata": {},
   "outputs": [
    {
     "data": {
      "image/png": "[encoded data removed]",
      "text/plain": [
       "<Figure size 432x288 with 1 Axes>"
      ]
     },
     "metadata": {
      "needs_background": "light"
     },
     "output_type": "display_data"
    }
   ],
   "source": [
    "plt.plot(alpha_list, minimize_list, 'ro')\n",
    "plt.title('зависимость минимизирующего функционала от alpha')\n",
    "plt.xlabel('alpha')\n",
    "plt.ylabel('минимизирующий функционал') # см. функцию  minimaze_func\n",
    "# xlim(0, 0.2)\n",
    "# ylim(5000, 10000)\n",
    "plt.show()"
   ]
  },
  {
   "cell_type": "code",
   "execution_count": 14,
   "metadata": {},
   "outputs": [
    {
     "data": {
      "image/png": "[encoded data removed]",
      "text/plain": [
       "<Figure size 432x288 with 1 Axes>"
      ]
     },
     "metadata": {
      "needs_background": "light"
     },
     "output_type": "display_data"
    }
   ],
   "source": [
    "# более приближенный график\n",
    "plt.plot(alpha_list, minimize_list, 'ro')\n",
    "xlim(0.2225, 0.23)\n",
    "plt.show()"
   ]
  },
  {
   "cell_type": "markdown",
   "metadata": {},
   "source": [
    "__Графики с $\\alpha$ лежащим в промежутке $[0.225; 0.228]$ с шагом $h = 0.001$__"
   ]
  },
  {
   "cell_type": "code",
   "execution_count": 15,
   "metadata": {},
   "outputs": [
    {
     "name": "stdout",
     "output_type": "stream",
     "text": [
      "alpha:  0.225 min:  104969.0796079354\n",
      "alpha:  0.226 min:  104963.438402835\n",
      "alpha:  0.227 min:  104962.44717555228\n",
      "alpha:  0.228 min:  104966.07750987848\n"
     ]
    }
   ],
   "source": [
    "real_d_i_j = get_real_d_i_j(df)\n",
    "\n",
    "alpha_list = []\n",
    "minimize_list =[]\n",
    "for alpha in np.arange(0.225, 0.228, 0.001):\n",
    "    value = minimaze_func(real_d_i_j, alpha)\n",
    "    print('alpha: ', alpha, 'min: ', value)\n",
    "    alpha_list.append(alpha)\n",
    "    minimize_list.append(value)"
   ]
  },
  {
   "cell_type": "code",
   "execution_count": 16,
   "metadata": {},
   "outputs": [
    {
     "data": {
      "image/png": "[encoded data removed]",
      "text/plain": [
       "<Figure size 432x288 with 1 Axes>"
      ]
     },
     "metadata": {
      "needs_background": "light"
     },
     "output_type": "display_data"
    }
   ],
   "source": [
    "plt.plot(alpha_list, minimize_list, 'ro')\n",
    "plt.title('зависимость минимизирующего функционала от alpha')\n",
    "plt.xlabel('alpha')\n",
    "plt.ylabel('минимизирующий функционал') # см. функцию  minimaze_func\n",
    "# xlim(0, 0.2)\n",
    "# ylim(5000, 10000)\n",
    "plt.show()"
   ]
  },
  {
   "cell_type": "markdown",
   "metadata": {},
   "source": [
    "__Графики с $\\alpha$ лежащим в промежутке $[0.2265; 0.2275]$ с шагом $h = 0.0001$__"
   ]
  },
  {
   "cell_type": "code",
   "execution_count": 17,
   "metadata": {},
   "outputs": [
    {
     "name": "stdout",
     "output_type": "stream",
     "text": [
      "alpha:  0.2265 min:  104962.3631747429\n",
      "alpha:  0.2266 min:  104962.28735093803\n",
      "alpha:  0.22669999999999998 min:  104962.25786877096\n",
      "alpha:  0.22679999999999997 min:  104962.27469889115\n",
      "alpha:  0.22689999999999996 min:  104962.33781134001\n",
      "alpha:  0.22699999999999995 min:  104962.44717555228\n",
      "alpha:  0.22709999999999994 min:  104962.60276035787\n",
      "alpha:  0.22719999999999993 min:  104962.80453398326\n",
      "alpha:  0.22729999999999992 min:  104963.05246405321\n",
      "alpha:  0.2273999999999999 min:  104963.34651759252\n",
      "alpha:  0.2274999999999999 min:  104963.68666102736\n"
     ]
    }
   ],
   "source": [
    "real_d_i_j = get_real_d_i_j(df)\n",
    "\n",
    "alpha_list = []\n",
    "minimize_list =[]\n",
    "for alpha in np.arange(0.2265, 0.2275, 0.0001):\n",
    "    value = minimaze_func(real_d_i_j, alpha)\n",
    "    print('alpha: ', alpha, 'min: ', value)\n",
    "    alpha_list.append(alpha)\n",
    "    minimize_list.append(value)"
   ]
  },
  {
   "cell_type": "code",
   "execution_count": 18,
   "metadata": {},
   "outputs": [
    {
     "data": {
      "image/png": "[encoded data removed]",
      "text/plain": [
       "<Figure size 432x288 with 1 Axes>"
      ]
     },
     "metadata": {
      "needs_background": "light"
     },
     "output_type": "display_data"
    }
   ],
   "source": [
    "plt.plot(alpha_list, minimize_list, 'ro')\n",
    "plt.title('зависимость минимизирующего функционала от alpha')\n",
    "plt.xlabel('alpha')\n",
    "plt.ylabel('минимизирующий функционал') # см. функцию  minimaze_func\n",
    "# xlim(0, 0.2)\n",
    "# ylim(5000, 10000)\n",
    "plt.show()"
   ]
  },
  {
   "cell_type": "markdown",
   "metadata": {},
   "source": [
    "__Графики с $\\alpha$ лежащим в промежутке $[0.2266; 0.2268]$ с шагом $h = 0.00001$__"
   ]
  },
  {
   "cell_type": "code",
   "execution_count": 21,
   "metadata": {},
   "outputs": [
    {
     "name": "stdout",
     "output_type": "stream",
     "text": [
      "alpha:  0.2266 min:  104962.28735093803\n",
      "alpha:  0.22661 min:  104962.28231782715\n",
      "alpha:  0.22662000000000002 min:  104962.27774810404\n",
      "alpha:  0.22663000000000003 min:  104962.27364173962\n",
      "alpha:  0.22664000000000004 min:  104962.26999870465\n",
      "alpha:  0.22665000000000005 min:  104962.2668189699\n",
      "alpha:  0.22666000000000006 min:  104962.26410250604\n",
      "alpha:  0.22667000000000007 min:  104962.26184928368\n",
      "alpha:  0.22668000000000008 min:  104962.26005927342\n",
      "alpha:  0.22669000000000009 min:  104962.25873244567\n",
      "alpha:  0.2267000000000001 min:  104962.25786877096\n",
      "alpha:  0.2267100000000001 min:  104962.25746821958\n",
      "alpha:  0.22672000000000012 min:  104962.25753076196\n",
      "alpha:  0.22673000000000013 min:  104962.25805636824\n",
      "alpha:  0.22674000000000014 min:  104962.25904500863\n",
      "alpha:  0.22675000000000015 min:  104962.26049665333\n",
      "alpha:  0.22676000000000016 min:  104962.26241127234\n",
      "alpha:  0.22677000000000017 min:  104962.26478883573\n",
      "alpha:  0.22678000000000018 min:  104962.2676293134\n",
      "alpha:  0.22679000000000019 min:  104962.27093267525\n",
      "alpha:  0.2268000000000002 min:  104962.27469889114\n"
     ]
    }
   ],
   "source": [
    "real_d_i_j = get_real_d_i_j(df)\n",
    "\n",
    "alpha_list = []\n",
    "minimize_list =[]\n",
    "for alpha in np.arange(0.2266, 0.2268, 0.00001):\n",
    "    value = minimaze_func(real_d_i_j, alpha)\n",
    "    print('alpha: ', alpha, 'min: ', value)\n",
    "    alpha_list.append(alpha)\n",
    "    minimize_list.append(value)"
   ]
  },
  {
   "cell_type": "code",
   "execution_count": 25,
   "metadata": {},
   "outputs": [
    {
     "data": {
      "image/png": "[encoded data removed]",
      "text/plain": [
       "<Figure size 800x640 with 1 Axes>"
      ]
     },
     "metadata": {},
     "output_type": "display_data"
    }
   ],
   "source": [
    "figure(num=None, figsize=(10, 8), dpi=80, facecolor='w', edgecolor='k')\n",
    "plt.plot(alpha_list, minimize_list, 'ro')\n",
    "plt.title('зависимость минимизирующего функционала от alpha')\n",
    "plt.xlabel('alpha')\n",
    "plt.ylabel('минимизирующий функционал') # см. функцию  minimaze_func\n",
    "# xlim(0, 0.2)\n",
    "# ylim(5000, 10000)\n",
    "plt.show()"
   ]
  },
  {
   "cell_type": "markdown",
   "metadata": {},
   "source": [
    "__Графики с $\\alpha$ лежащим в промежутке $[0.226700; 0.226725]$ с шагом $h = 0.00001$__"
   ]
  },
  {
   "cell_type": "code",
   "execution_count": 26,
   "metadata": {},
   "outputs": [
    {
     "name": "stdout",
     "output_type": "stream",
     "text": [
      "alpha:  0.2267 min:  104962.25786877096\n",
      "alpha:  0.22671000000000002 min:  104962.2574682196\n",
      "alpha:  0.22672000000000003 min:  104962.25753076196\n"
     ]
    }
   ],
   "source": [
    "real_d_i_j = get_real_d_i_j(df)\n",
    "\n",
    "alpha_list = []\n",
    "minimize_list =[]\n",
    "for alpha in np.arange(0.226700, 0.226725, 0.00001):\n",
    "    value = minimaze_func(real_d_i_j, alpha)\n",
    "    print('alpha: ', alpha, 'min: ', value)\n",
    "    alpha_list.append(alpha)\n",
    "    minimize_list.append(value)"
   ]
  },
  {
   "cell_type": "code",
   "execution_count": 29,
   "metadata": {},
   "outputs": [
    {
     "data": {
      "image/png": "[encoded data removed]",
      "text/plain": [
       "<Figure size 720x576 with 1 Axes>"
      ]
     },
     "metadata": {
      "needs_background": "light"
     },
     "output_type": "display_data"
    }
   ],
   "source": [
    "figure(figsize=(10, 8))\n",
    "plt.plot(alpha_list, minimize_list, 'ro')\n",
    "plt.title('зависимость минимизирующего функционала от alpha')\n",
    "plt.xlabel('alpha')\n",
    "plt.ylabel('минимизирующий функционал') # см. функцию  minimaze_func\n",
    "# xlim(0, 0.2)\n",
    "# ylim(5000, 10000)\n",
    "plt.show()"
   ]
  },
  {
   "cell_type": "markdown",
   "metadata": {},
   "source": [
    "__Итог: $\\alpha = 0.22671$ показывает лучшие результаты__"
   ]
  },
  {
   "cell_type": "code",
   "execution_count": null,
   "metadata": {},
   "outputs": [],
   "source": []
  }
 ],
 "metadata": {
  "kernelspec": {
   "display_name": "Python 3",
   "language": "python",
   "name": "python3"
  },
  "language_info": {
   "codemirror_mode": {
    "name": "ipython",
    "version": 3
   },
   "file_extension": ".py",
   "mimetype": "text/x-python",
   "name": "python",
   "nbconvert_exporter": "python",
   "pygments_lexer": "ipython3",
   "version": "3.7.4"
  }
 },
 "nbformat": 4,
 "nbformat_minor": 2
}
