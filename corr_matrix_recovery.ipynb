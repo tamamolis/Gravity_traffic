{
 "cells": [
  {
   "cell_type": "code",
   "execution_count": 1,
   "metadata": {},
   "outputs": [],
   "source": [
    "from IPython import get_ipython\n",
    "get_ipython().magic('reset -sf')"
   ]
  },
  {
   "cell_type": "code",
   "execution_count": 2,
   "metadata": {},
   "outputs": [],
   "source": [
    "import pandas as pd\n",
    "import numpy as np\n",
    "import matplotlib.pyplot as plt\n",
    "import tensorflow as tf\n",
    "import tensorflow.distributions\n",
    "from tensorflow.distributions import Dirichlet, Multinomial\n",
    "from scipy.stats import entropy\n",
    "import matplotlib.pyplot as plt\n",
    "from mpl_toolkits.mplot3d import axes3d, Axes3D\n",
    "np.set_printoptions(suppress=True)"
   ]
  },
  {
   "cell_type": "markdown",
   "metadata": {},
   "source": [
    "__Подготовка данных, выравниваем столбцы москвичей и не-москвичей__"
   ]
  },
  {
   "cell_type": "code",
   "execution_count": 3,
   "metadata": {},
   "outputs": [],
   "source": [
    "df = pd.read_csv('traffic_moscow.csv', header=None)\n",
    "df.columns = [\"i\", \"j\", \"amt\", \"t\", \"s\"]\n",
    "\n",
    "def make_index(i, j):\n",
    "    residents = [1, 2, 3, 4, 5, 6, 7, 8, 9, 10]\n",
    "    if int(i) in residents:\n",
    "        return 1 # живут в Москве\n",
    "    else:\n",
    "        return 0 # живут в области\n",
    "\n",
    "df['r'] = df.apply(lambda row: make_index(row['i'], \n",
    "        row['j']), axis=1) # добавили столбец принадлежности москвичам\n",
    "\n",
    "def amt_for_residents(df): # умножили значения москвичей на 1.62\n",
    "    for i in range(df.shape[0]):\n",
    "        df.loc[i, 'amt'] *= 1.62 if df.loc[i, 'r'] == 1 else 1\n",
    "    return df\n",
    "\n",
    "# df = amt_for_residents(df)"
   ]
  },
  {
   "cell_type": "code",
   "execution_count": 4,
   "metadata": {},
   "outputs": [
    {
     "data": {
      "text/html": [
       "<div>\n",
       "<style scoped>\n",
       "    .dataframe tbody tr th:only-of-type {\n",
       "        vertical-align: middle;\n",
       "    }\n",
       "\n",
       "    .dataframe tbody tr th {\n",
       "        vertical-align: top;\n",
       "    }\n",
       "\n",
       "    .dataframe thead th {\n",
       "        text-align: right;\n",
       "    }\n",
       "</style>\n",
       "<table border=\"1\" class=\"dataframe\">\n",
       "  <thead>\n",
       "    <tr style=\"text-align: right;\">\n",
       "      <th></th>\n",
       "      <th>i</th>\n",
       "      <th>j</th>\n",
       "      <th>amt</th>\n",
       "      <th>t</th>\n",
       "      <th>s</th>\n",
       "      <th>r</th>\n",
       "    </tr>\n",
       "  </thead>\n",
       "  <tbody>\n",
       "    <tr>\n",
       "      <th>0</th>\n",
       "      <td>1</td>\n",
       "      <td>1</td>\n",
       "      <td>40</td>\n",
       "      <td>26</td>\n",
       "      <td>2.2</td>\n",
       "      <td>1</td>\n",
       "    </tr>\n",
       "    <tr>\n",
       "      <th>1</th>\n",
       "      <td>1</td>\n",
       "      <td>2</td>\n",
       "      <td>4</td>\n",
       "      <td>49</td>\n",
       "      <td>8.1</td>\n",
       "      <td>1</td>\n",
       "    </tr>\n",
       "    <tr>\n",
       "      <th>2</th>\n",
       "      <td>1</td>\n",
       "      <td>3</td>\n",
       "      <td>3</td>\n",
       "      <td>35</td>\n",
       "      <td>6.8</td>\n",
       "      <td>1</td>\n",
       "    </tr>\n",
       "    <tr>\n",
       "      <th>3</th>\n",
       "      <td>1</td>\n",
       "      <td>4</td>\n",
       "      <td>2</td>\n",
       "      <td>75</td>\n",
       "      <td>9.3</td>\n",
       "      <td>1</td>\n",
       "    </tr>\n",
       "    <tr>\n",
       "      <th>4</th>\n",
       "      <td>1</td>\n",
       "      <td>5</td>\n",
       "      <td>2</td>\n",
       "      <td>30</td>\n",
       "      <td>8.0</td>\n",
       "      <td>1</td>\n",
       "    </tr>\n",
       "  </tbody>\n",
       "</table>\n",
       "</div>"
      ],
      "text/plain": [
       "   i  j  amt   t    s  r\n",
       "0  1  1   40  26  2.2  1\n",
       "1  1  2    4  49  8.1  1\n",
       "2  1  3    3  35  6.8  1\n",
       "3  1  4    2  75  9.3  1\n",
       "4  1  5    2  30  8.0  1"
      ]
     },
     "execution_count": 4,
     "metadata": {},
     "output_type": "execute_result"
    }
   ],
   "source": [
    "df.head()"
   ]
  },
  {
   "cell_type": "markdown",
   "metadata": {},
   "source": [
    "__Инициализируем матрицу издержек T, матрицу d, L и W__"
   ]
  },
  {
   "cell_type": "code",
   "execution_count": 5,
   "metadata": {},
   "outputs": [],
   "source": [
    "def costs_func(i, j, column):\n",
    "    rows = df.loc[df['i'] == i]\n",
    "    columns = rows.loc[df['j'] == j]\n",
    "    c = columns[column]\n",
    "    try:\n",
    "        c = int(c)\n",
    "        return c\n",
    "    except TypeError: # если не пересекается район i с районом j\n",
    "        return 0\n",
    "    \n",
    "def f_T(T, alpha):\n",
    "    return np.exp(alpha * T)\n",
    "\n",
    "def create_T_d():\n",
    "    T = np.zeros((22, 22))\n",
    "    d = np.zeros((22, 22))\n",
    "    for i in range(0, 22):\n",
    "        for j in range(0, 22):\n",
    "            T[i][j] = costs_func(i, j, 't')\n",
    "            d[i][j] = costs_func(i, j, 'amt')\n",
    "    return T, d"
   ]
  },
  {
   "cell_type": "code",
   "execution_count": 6,
   "metadata": {},
   "outputs": [
    {
     "name": "stderr",
     "output_type": "stream",
     "text": [
      "/usr/local/Cellar/ipython/7.1.1/libexec/vendor/lib/python3.7/site-packages/ipykernel_launcher.py:4: FutureWarning: Method .as_matrix will be removed in a future version. Use .values instead.\n",
      "  after removing the cwd from sys.path.\n",
      "/usr/local/Cellar/ipython/7.1.1/libexec/vendor/lib/python3.7/site-packages/ipykernel_launcher.py:5: FutureWarning: Method .as_matrix will be removed in a future version. Use .values instead.\n",
      "  \"\"\"\n"
     ]
    },
    {
     "name": "stdout",
     "output_type": "stream",
     "text": [
      "1965 1965\n"
     ]
    }
   ],
   "source": [
    "L_i = df.groupby('i')['amt'].sum().reset_index()\n",
    "W_j = df.groupby('j')['amt'].sum().reset_index()\n",
    "\n",
    "W = W_j.as_matrix()[:, [1]]\n",
    "L = L_i.as_matrix()[:, [1]]    \n",
    "    \n",
    "total_i = L_i['amt'].sum()\n",
    "total_j = W_j['amt'].sum()\n",
    "\n",
    "print(total_i, total_j) # проверили что правильно нашли L и W\n",
    "\n",
    "T, d = create_T_d()"
   ]
  },
  {
   "cell_type": "markdown",
   "metadata": {},
   "source": [
    "__Итерирующая функция. Исполнена в векторной форме. Подглядела в отчёте Сергея Павлова__"
   ]
  },
  {
   "cell_type": "code",
   "execution_count": 7,
   "metadata": {},
   "outputs": [],
   "source": [
    "def iterate(A, B, W, L, f, n):\n",
    "    A_p = (1.0 / ((B.T * W.T * f).sum(axis = 1))).reshape((n,1))\n",
    "    B_p = (1.0 / ((A_p * L * f).sum(axis = 0))).T.reshape((n,1))\n",
    "    return A_p, B_p"
   ]
  },
  {
   "cell_type": "code",
   "execution_count": 8,
   "metadata": {
    "scrolled": true
   },
   "outputs": [],
   "source": [
    "def gravity_func(alpha, iterations):\n",
    "\n",
    "    A = np.ones((22,1))\n",
    "    B = np.ones((22,1))\n",
    "    \n",
    "    dA = []\n",
    "    dB = []\n",
    "    f_a = np.exp(-alpha * T)\n",
    "    \n",
    "    for i in range(iterations):\n",
    "        \n",
    "        A_n, B_n = iterate(A,B,W,L,f_a,22)\n",
    "        \n",
    "        dA_ = np.linalg.norm(A_n, 2) - np.linalg.norm(A, 2) \n",
    "            # два норма -- корень из суммы квадратов, ищем невязку\n",
    "        dB_ = np.linalg.norm(B_n, 2) - np.linalg.norm(B, 2)\n",
    "        \n",
    "        dA.append(dA_)\n",
    "        dB.append(dB_)\n",
    "        \n",
    "        A, B = A_n, B_n\n",
    "\n",
    "    gr_fun = np.dot((A * L) , (B * W).T) * f_a\n",
    "    return A, B, dA, dB, gr_fun"
   ]
  },
  {
   "cell_type": "markdown",
   "metadata": {},
   "source": [
    "__Смотрим за сколько итераций сойдутся A и B. Сошлось за 2500 примерно__"
   ]
  },
  {
   "cell_type": "code",
   "execution_count": 9,
   "metadata": {},
   "outputs": [
    {
     "data": {
      "image/png": "[encoded data removed]",
      "text/plain": [
       "<Figure size 432x288 with 2 Axes>"
      ]
     },
     "metadata": {
      "needs_background": "light"
     },
     "output_type": "display_data"
    }
   ],
   "source": [
    "A, B, dA, dB, _ = gravity_func(5, 10000)\n",
    "\n",
    "plt.subplot(2, 1, 1)\n",
    "plt.scatter(range(20, 10000), dA[20:], s = 1)\n",
    "plt.ylabel('dA')\n",
    "\n",
    "plt.subplot(2, 1, 2)\n",
    "plt.scatter(range(20, 10000), dB[20:], s = 1)\n",
    "plt.ylabel('dB')\n",
    "plt.xlabel('iterations')\n",
    "\n",
    "plt.show()"
   ]
  },
  {
   "cell_type": "markdown",
   "metadata": {},
   "source": [
    "__Подбираем оптимальное $\\alpha$. Рассматриваем отрезок [0, 0.5]__"
   ]
  },
  {
   "cell_type": "code",
   "execution_count": 10,
   "metadata": {},
   "outputs": [
    {
     "data": {
      "image/png": "[encoded data removed]",
      "text/plain": [
       "<Figure size 432x288 with 1 Axes>"
      ]
     },
     "metadata": {
      "needs_background": "light"
     },
     "output_type": "display_data"
    }
   ],
   "source": [
    "res = []\n",
    "for alpha in np.arange(0.0, 0.02, 0.001):\n",
    "    _, _, _, _, r = gravity_func(alpha, 2500)\n",
    "    res.append(np.sum((r - d)*(r - d)))\n",
    "\n",
    "plt.scatter(np.arange(0.0, 0.02, 0.001), res)\n",
    "plt.ylabel('Невязка')\n",
    "plt.xlabel('alpha')\n",
    "plt.show()"
   ]
  },
  {
   "cell_type": "markdown",
   "metadata": {},
   "source": [
    "__Просто Синхорн, но теперь через $\\lambda$, а не A и B__"
   ]
  },
  {
   "cell_type": "code",
   "execution_count": 11,
   "metadata": {},
   "outputs": [],
   "source": [
    "def Sinkhorn(k, lambda_W_prev, lambda_L_prev):\n",
    "    summa = 0\n",
    "    \n",
    "    lambda_L = np.zeros((n, ), dtype=float)\n",
    "    lambda_W = np.zeros((n, ), dtype=float)\n",
    "    \n",
    "    if k % 2 == 0:\n",
    "        for i in range(n):\n",
    "            for j in range(n):\n",
    "                summa += ( np.exp(-lambda_W_prev[j]) / \n",
    "                            L[i] * np.exp(1 + beta * alpha * T[i][j]) )\n",
    "            lambda_L[i] = np.log(summa)\n",
    "            summa = 0\n",
    "        lambda_W = lambda_W_prev\n",
    "    else:\n",
    "        for j in range(n):\n",
    "            for i in range(n):\n",
    "                summa += ( np.exp(-lambda_L_prev[i]) / \n",
    "                            W[j] * np.exp(1 + beta * alpha * T[i][j]) )\n",
    "            lambda_W[j] = np.log(summa)\n",
    "            summa = 0\n",
    "        lambda_L = lambda_L_prev\n",
    "#         print(lambda_W, lambda_L)\n",
    "    return lambda_W, lambda_L\n",
    "\n",
    "def iterate(beta, alpha, d, L, W, num_iter):\n",
    "    \n",
    "    lambda_L = np.zeros((n, ), dtype=float)\n",
    "    lambda_W = np.zeros((n, ), dtype=float)\n",
    "    \n",
    "    dL = []\n",
    "    dW = []\n",
    "    \n",
    "    for k in range(num_iter):\n",
    "        \n",
    "        lambda_Wn, lambda_Ln = Sinkhorn(k, lambda_W, lambda_L)\n",
    "        \n",
    "        dL_ = np.linalg.norm(lambda_L - lambda_Ln, 2)/np.linalg.norm(lambda_L, 2) \n",
    "        dW_ = np.linalg.norm(lambda_W - lambda_Wn, 2)/np.linalg.norm(lambda_W, 2)\n",
    "        \n",
    "        dL.append(dL_)\n",
    "        dW.append(dW_)\n",
    "        \n",
    "        lambda_L, lambda_W = lambda_Ln, lambda_Wn \n",
    "        \n",
    "#     print(lambda_L, '\\n', lambda_W)\n",
    "    r = error_d_i_j(lambda_L, lambda_W, d, beta, alpha)\n",
    "    \n",
    "    return r, dL, dW\n",
    "\n",
    "def error_d_i_j(lambda_L, lambda_W, d, beta, alpha):\n",
    "    summa = 0\n",
    "    for i in range(n):\n",
    "        for j in range(n):\n",
    "            summa += (d[i][j] - np.exp(-lambda_L[i])*np.exp(-lambda_W[j]) / \n",
    "                      np.exp(1 + beta*alpha*T[i][j]))**2\n",
    "    return summa"
   ]
  },
  {
   "cell_type": "markdown",
   "metadata": {},
   "source": [
    "__Смотрим лямбды__"
   ]
  },
  {
   "cell_type": "code",
   "execution_count": 12,
   "metadata": {
    "scrolled": true
   },
   "outputs": [
    {
     "name": "stderr",
     "output_type": "stream",
     "text": [
      "/usr/local/Cellar/ipython/7.1.1/libexec/vendor/lib/python3.7/site-packages/ipykernel_launcher.py:8: FutureWarning: Method .as_matrix will be removed in a future version. Use .values instead.\n",
      "  \n",
      "/usr/local/Cellar/ipython/7.1.1/libexec/vendor/lib/python3.7/site-packages/ipykernel_launcher.py:9: FutureWarning: Method .as_matrix will be removed in a future version. Use .values instead.\n",
      "  if __name__ == '__main__':\n"
     ]
    }
   ],
   "source": [
    "num_iter = 2500\n",
    "alpha, beta = 1.0, 1.0\n",
    "n = 22\n",
    "\n",
    "L_i = df.groupby('i')['amt'].sum().reset_index()\n",
    "W_j = df.groupby('j')['amt'].sum().reset_index()\n",
    "\n",
    "W = W_j.as_matrix()[:, 1]\n",
    "L = L_i.as_matrix()[:, 1]"
   ]
  },
  {
   "cell_type": "code",
   "execution_count": 13,
   "metadata": {},
   "outputs": [
    {
     "name": "stderr",
     "output_type": "stream",
     "text": [
      "/usr/local/Cellar/ipython/7.1.1/libexec/vendor/lib/python3.7/site-packages/ipykernel_launcher.py:38: RuntimeWarning: divide by zero encountered in double_scalars\n",
      "/usr/local/Cellar/ipython/7.1.1/libexec/vendor/lib/python3.7/site-packages/ipykernel_launcher.py:39: RuntimeWarning: invalid value encountered in double_scalars\n",
      "/usr/local/Cellar/ipython/7.1.1/libexec/vendor/lib/python3.7/site-packages/ipykernel_launcher.py:39: RuntimeWarning: divide by zero encountered in double_scalars\n"
     ]
    },
    {
     "data": {
      "image/png": "[encoded data removed]",
      "text/plain": [
       "<Figure size 432x288 with 2 Axes>"
      ]
     },
     "metadata": {
      "needs_background": "light"
     },
     "output_type": "display_data"
    }
   ],
   "source": [
    "_, dL, dW = iterate(beta, alpha, d, L, W, num_iter)\n",
    "\n",
    "plt.subplot(2, 1, 1)\n",
    "plt.scatter(range(num_iter), dL, s = 1)\n",
    "plt.ylabel('dL')\n",
    "\n",
    "plt.subplot(2, 1, 2)\n",
    "plt.scatter(range(num_iter), dW, s = 1)\n",
    "plt.ylabel('dW')\n",
    "plt.xlabel('iterations')\n",
    "\n",
    "plt.show()"
   ]
  },
  {
   "cell_type": "code",
   "execution_count": 14,
   "metadata": {},
   "outputs": [
    {
     "name": "stderr",
     "output_type": "stream",
     "text": [
      "/usr/local/Cellar/ipython/7.1.1/libexec/vendor/lib/python3.7/site-packages/ipykernel_launcher.py:38: RuntimeWarning: divide by zero encountered in double_scalars\n",
      "/usr/local/Cellar/ipython/7.1.1/libexec/vendor/lib/python3.7/site-packages/ipykernel_launcher.py:39: RuntimeWarning: invalid value encountered in double_scalars\n",
      "/usr/local/Cellar/ipython/7.1.1/libexec/vendor/lib/python3.7/site-packages/ipykernel_launcher.py:39: RuntimeWarning: divide by zero encountered in double_scalars\n"
     ]
    }
   ],
   "source": [
    "num_iter = 1500\n",
    "alpha = 1.0\n",
    "beta_range = np.arange(0.0, 1.0, 0.1)\n",
    "res_list = []\n",
    "for beta in beta_range:\n",
    "    r, _, _ = iterate(beta, alpha, d, L, W, num_iter)\n",
    "    res_list.append(r)\n",
    "#     print(r, beta)"
   ]
  },
  {
   "cell_type": "code",
   "execution_count": 15,
   "metadata": {
    "scrolled": false
   },
   "outputs": [
    {
     "data": {
      "image/png": "[encoded data removed]",
      "text/plain": [
       "<Figure size 432x288 with 1 Axes>"
      ]
     },
     "metadata": {
      "needs_background": "light"
     },
     "output_type": "display_data"
    }
   ],
   "source": [
    "plt.scatter(beta_range, res_list)\n",
    "plt.ylabel('Невязка')\n",
    "plt.xlabel('alpha')\n",
    "plt.show()"
   ]
  },
  {
   "cell_type": "code",
   "execution_count": null,
   "metadata": {},
   "outputs": [],
   "source": [
    "num_iter = 1500\n",
    "alpha = 1.0\n",
    "beta_range = np.arange(0.0, 0.1, 0.01)\n",
    "res_list = []\n",
    "\n",
    "for beta in beta_range:\n",
    "    r, _, _ = iterate(beta, alpha, d, L, W, num_iter)\n",
    "    res_list.append(r)\n",
    "#     print(r, beta)"
   ]
  },
  {
   "cell_type": "code",
   "execution_count": null,
   "metadata": {},
   "outputs": [],
   "source": [
    "plt.scatter(beta_range, res_list)\n",
    "plt.ylabel('Невязка')\n",
    "plt.xlabel('alpha')\n",
    "plt.show()"
   ]
  },
  {
   "cell_type": "raw",
   "metadata": {},
   "source": [
    "ДАЛЬШЕ НЕГОТОВО\n",
    "\n",
    "привет! у меня вопрос по графикам. прошу прощения, что на выходных, я просто ими в основном на выходных занимаюсь. если ответите в понедельник, мне тоже норм будет.\n",
    "\n",
    "так вот:\n",
    "1. я с помощью Синхорна за сколько-то тысяч итераций нашла lambda_L и lambda_W. сейчас я ищу за 2000 итераций, это не подкреплено ничем, кроме того, что за большее число итераций векторы превращаются в nan и того, что в случае с A_i и B_i (то что я до этого делала) сошлось всё именно за 2000 итераций\n",
    "2. я подставляю найденные векторы в Phi(lambda_L, lambda_W) = бла-бла-бла\n",
    "3. Phi зависит от beta и alpha. Делаю цикл по beta, смотрю как выглядит Phi. \n",
    "4. Строю график зависимости Phi от beta"
   ]
  },
  {
   "cell_type": "code",
   "execution_count": null,
   "metadata": {},
   "outputs": [],
   "source": [
    "def fast_Sinkhorn(k, x, L, alpha, beta, num_iter):\n",
    "    a_n = 0\n",
    "    a = 0\n",
    "    \n",
    "    L = 1\n",
    "    L_n = L / 2\n",
    "    \n",
    "    y = np.zeros((2*n, ), dtype=float)\n",
    "    y_n = np.zeros((2*n, ), dtype=float)\n",
    "    \n",
    "    V = np.zeros((2*n, ), dtype=float)\n",
    "    V_n = np.zeros((2*n, ), dtype=float)\n",
    "    \n",
    "    x = np.zeros((2*n, ), dtype=float)\n",
    "    x_n = np.zeros((2*n, ), dtype=float)\n",
    "    \n",
    "    tau = 0\n",
    "    tau_k = 0\n",
    "    \n",
    "    for k in range(num_iter):\n",
    "        while True:\n",
    "            a_n = 1 / 2*L + np.sqrt( 1 / 4 * (L**2) + (a**2)* L / L_n)\n",
    "            tau_k = 1 / a_n\n",
    "            y_n = tau_k * V_n + (1 - tau_n)*x_n\n",
    "            if k % 2 == 0:\n",
    "                summa = 0\n",
    "                for i in range(n):\n",
    "                    for j in range(n):\n",
    "                        summa += (np.exp(-y_n[n:][j]) / \n",
    "                        L[i] * np.exp(1 + beta * alpha * T[i][j]) )\n",
    "                    y_n[n:][i] = summa\n",
    "                x_n = np.concatenate((y_1, y_2), axis = 0)\n",
    "            else:\n",
    "                summa = 0\n",
    "                for j in range(n):\n",
    "                    for i in range(n):\n",
    "                        summa += (np.exp(-y_n[:n][i]) / \n",
    "                        W[j] * np.exp(1 + beta * alpha * T[j][i]) )\n",
    "                    y_n[:n][j] = summa\n",
    "                x_n = np.concatenate((y_1, y_2), axis = 0)\n",
    "                \n",
    "            phi_v = (y_n[n:], y_n[:n], beta, alpha, L, W)\n",
    "            V_n = V - a_n*np.gradient(phi_v)\n",
    "            \n",
    "    return 0"
   ]
  },
  {
   "cell_type": "code",
   "execution_count": null,
   "metadata": {},
   "outputs": [],
   "source": [
    "v_1 = np.array([0,0,0,0,0])\n",
    "v_2 = np.array([1,1,1,1,1])\n",
    "v_3 = np.concatenate((v_1, v_2), axis=0)"
   ]
  },
  {
   "cell_type": "code",
   "execution_count": null,
   "metadata": {},
   "outputs": [],
   "source": [
    "v_3"
   ]
  },
  {
   "cell_type": "code",
   "execution_count": null,
   "metadata": {},
   "outputs": [],
   "source": [
    "v_3[:5]"
   ]
  },
  {
   "cell_type": "code",
   "execution_count": null,
   "metadata": {},
   "outputs": [],
   "source": [
    "y_1 = np.zeros((n, ), dtype=float)\n",
    "y_2 = np.zeros((n, ), dtype=float)\n",
    "summa = 0\n",
    "for i in range(n):\n",
    "    for j in range(n):\n",
    "        summa += (np.exp(-y_1[j]) / \n",
    "                  L[i] * np.exp(1 + beta * alpha * T[i][j]) )\n",
    "    y_2[i] = summa\n",
    "x_n = np.concatenate((y_1, y_2), axis = 0)"
   ]
  },
  {
   "cell_type": "code",
   "execution_count": null,
   "metadata": {},
   "outputs": [],
   "source": [
    "y_n = np.random.rand(n*2, )\n",
    "beta = 1.0\n",
    "alpha = 1.0"
   ]
  },
  {
   "cell_type": "code",
   "execution_count": null,
   "metadata": {},
   "outputs": [],
   "source": [
    "phi_v = phi(y_n[n:], y_n[:n], beta, alpha, L, W)"
   ]
  },
  {
   "cell_type": "code",
   "execution_count": null,
   "metadata": {},
   "outputs": [],
   "source": [
    "phi_v"
   ]
  },
  {
   "cell_type": "code",
   "execution_count": null,
   "metadata": {},
   "outputs": [],
   "source": []
  }
 ],
 "metadata": {
  "kernelspec": {
   "display_name": "Python 3",
   "language": "python",
   "name": "python3"
  },
  "language_info": {
   "codemirror_mode": {
    "name": "ipython",
    "version": 3
   },
   "file_extension": ".py",
   "mimetype": "text/x-python",
   "name": "python",
   "nbconvert_exporter": "python",
   "pygments_lexer": "ipython3",
   "version": "3.7.4"
  }
 },
 "nbformat": 4,
 "nbformat_minor": 2
}
