{
 "cells": [
  {
   "cell_type": "code",
   "execution_count": 1,
   "metadata": {},
   "outputs": [],
   "source": [
    "from IPython import get_ipython\n",
    "get_ipython().magic('reset -sf')"
   ]
  },
  {
   "cell_type": "code",
   "execution_count": 20,
   "metadata": {},
   "outputs": [],
   "source": [
    "import pandas as pd\n",
    "import numpy as np\n",
    "# np.set_printoptions(suppress=True) # чтоб без e\n",
    "from matplotlib import pyplot as plt\n",
    "from mpl_toolkits.mplot3d import axes3d, Axes3D\n",
    "import time\n",
    "from pylab import *\n",
    "\n",
    "%matplotlib inline"
   ]
  },
  {
   "cell_type": "code",
   "execution_count": 3,
   "metadata": {},
   "outputs": [
    {
     "name": "stdout",
     "output_type": "stream",
     "text": [
      "--- 0.01526498794555664 seconds ---\n"
     ]
    },
    {
     "data": {
      "text/html": [
       "<div>\n",
       "<style scoped>\n",
       "    .dataframe tbody tr th:only-of-type {\n",
       "        vertical-align: middle;\n",
       "    }\n",
       "\n",
       "    .dataframe tbody tr th {\n",
       "        vertical-align: top;\n",
       "    }\n",
       "\n",
       "    .dataframe thead th {\n",
       "        text-align: right;\n",
       "    }\n",
       "</style>\n",
       "<table border=\"1\" class=\"dataframe\">\n",
       "  <thead>\n",
       "    <tr style=\"text-align: right;\">\n",
       "      <th></th>\n",
       "      <th>i</th>\n",
       "      <th>j</th>\n",
       "      <th>amt</th>\n",
       "      <th>t</th>\n",
       "      <th>s</th>\n",
       "    </tr>\n",
       "  </thead>\n",
       "  <tbody>\n",
       "    <tr>\n",
       "      <th>0</th>\n",
       "      <td>1</td>\n",
       "      <td>1</td>\n",
       "      <td>40</td>\n",
       "      <td>26</td>\n",
       "      <td>2.2</td>\n",
       "    </tr>\n",
       "    <tr>\n",
       "      <th>1</th>\n",
       "      <td>1</td>\n",
       "      <td>2</td>\n",
       "      <td>4</td>\n",
       "      <td>49</td>\n",
       "      <td>8.1</td>\n",
       "    </tr>\n",
       "    <tr>\n",
       "      <th>2</th>\n",
       "      <td>1</td>\n",
       "      <td>3</td>\n",
       "      <td>3</td>\n",
       "      <td>35</td>\n",
       "      <td>6.8</td>\n",
       "    </tr>\n",
       "    <tr>\n",
       "      <th>3</th>\n",
       "      <td>1</td>\n",
       "      <td>4</td>\n",
       "      <td>2</td>\n",
       "      <td>75</td>\n",
       "      <td>9.3</td>\n",
       "    </tr>\n",
       "    <tr>\n",
       "      <th>4</th>\n",
       "      <td>1</td>\n",
       "      <td>5</td>\n",
       "      <td>2</td>\n",
       "      <td>30</td>\n",
       "      <td>8.0</td>\n",
       "    </tr>\n",
       "  </tbody>\n",
       "</table>\n",
       "</div>"
      ],
      "text/plain": [
       "   i  j  amt   t    s\n",
       "0  1  1   40  26  2.2\n",
       "1  1  2    4  49  8.1\n",
       "2  1  3    3  35  6.8\n",
       "3  1  4    2  75  9.3\n",
       "4  1  5    2  30  8.0"
      ]
     },
     "execution_count": 3,
     "metadata": {},
     "output_type": "execute_result"
    }
   ],
   "source": [
    "start_time = time.time()\n",
    "df = pd.read_csv('traffic_moscow.csv', header=None)\n",
    "df.columns = [\"i\", \"j\", \"amt\", \"t\", \"s\"]\n",
    "print(\"--- %s seconds ---\" % (time.time() - start_time))\n",
    "df.head()"
   ]
  },
  {
   "cell_type": "markdown",
   "metadata": {},
   "source": [
    "##### Надо учесть коэффициент 1.62\n",
    "для этого добавить столбец принадлежности к Москве-области и умножить amt москвичей на 1.62"
   ]
  },
  {
   "cell_type": "code",
   "execution_count": 4,
   "metadata": {},
   "outputs": [],
   "source": [
    "def make_index(i, j):\n",
    "    residents = [1, 2, 3, 4, 5, 6, 7, 8, 9, 10]\n",
    "    if int(i) in residents:\n",
    "        return 1 # живут в Москве\n",
    "    else:\n",
    "        return 0 # живут в области"
   ]
  },
  {
   "cell_type": "code",
   "execution_count": 5,
   "metadata": {},
   "outputs": [],
   "source": [
    "df['r'] = df.apply(lambda row: make_index(row['i'], \n",
    "                                              row['j']), axis=1) # добавили столбец"
   ]
  },
  {
   "cell_type": "code",
   "execution_count": 6,
   "metadata": {},
   "outputs": [],
   "source": [
    "def amt_for_residents(df): # умножили значения москвичей на 1.62\n",
    "    for i in range(df.shape[0]):\n",
    "        df.loc[i, 'amt'] *= 1.62 if df.loc[i, 'r'] == 1 else 1\n",
    "    return df\n",
    "\n",
    "df = amt_for_residents(df)"
   ]
  },
  {
   "cell_type": "markdown",
   "metadata": {},
   "source": [
    "#### Cначала попробовать в качестве издержек время\n",
    "\n",
    "Считаем $L_i$, где $L_i$ -- это объем отправления из i. Причём $sum$ ($L_i$) = $sum$ ($W_j$), где $W_j$ -- это объём прибытия в район j.\n"
   ]
  },
  {
   "cell_type": "code",
   "execution_count": 7,
   "metadata": {},
   "outputs": [
    {
     "name": "stdout",
     "output_type": "stream",
     "text": [
      "2571.36 2571.3599999999997\n"
     ]
    }
   ],
   "source": [
    "L_i = df.groupby('i')['amt'].sum().reset_index()\n",
    "W_j = df.groupby('j')['amt'].sum().reset_index()\n",
    "\n",
    "total_i = L_i['amt'].sum()\n",
    "total_j = W_j['amt'].sum()\n",
    "\n",
    "print(total_i, total_j)"
   ]
  },
  {
   "cell_type": "code",
   "execution_count": 8,
   "metadata": {},
   "outputs": [
    {
     "name": "stdout",
     "output_type": "stream",
     "text": [
      "   i     amt\n",
      "0  1  108.54\n",
      "1  2  197.64\n",
      "2  3  204.12\n",
      "3  4  158.76\n",
      "4  5  183.06\n"
     ]
    }
   ],
   "source": [
    "print(L_i.head())"
   ]
  },
  {
   "cell_type": "code",
   "execution_count": 9,
   "metadata": {},
   "outputs": [
    {
     "name": "stdout",
     "output_type": "stream",
     "text": [
      "   j     amt\n",
      "0  1  512.82\n",
      "1  2  208.58\n",
      "2  3  163.98\n",
      "3  4  153.64\n",
      "4  5  153.50\n"
     ]
    }
   ],
   "source": [
    "print(W_j.head())"
   ]
  },
  {
   "cell_type": "markdown",
   "metadata": {},
   "source": [
    "###### Теперь надо решать систему и искать $d_{ij}$\n",
    "Метод последовательных итераций.\n",
    "##### Вопрос: куда девать $alpha$? \n",
    "Пока примем $alpha$ за единицу. Потом надо что-то решать.\n",
    "##### UPDATE: просто A_i и B_i надо всё время пересчитывать в gravity func, а не считать заранее!\n",
    "##### Вопрос: что такое $T_{ij}$?\n",
    "$T_{ij}$ -- это издержки. Издержки -- это время t.\n",
    "#### Проблема: i с j не всегда пересекаются. Не получается вернуть издержку. Возвращаю ноль\n",
    "Пока что возвращаю в таких случаях 0."
   ]
  },
  {
   "cell_type": "code",
   "execution_count": 10,
   "metadata": {},
   "outputs": [],
   "source": [
    "def costs_func(i, j, alpha):\n",
    "    rows = df.loc[df['i'] == i]\n",
    "    columns = rows.loc[df['j'] == j]\n",
    "    t = columns['t'] # потому что издержки -- это время\n",
    "    try:\n",
    "        t = int(t)\n",
    "        return np.exp(np.dot(-alpha, t))\n",
    "    except TypeError: # если не пересекается район i с районом j\n",
    "        return 0\n",
    "\n",
    "def iteration_method(L_i, W_j, alpha):\n",
    "    A_i = 1\n",
    "    B_j = 1\n",
    "    list_A_i = []\n",
    "    list_B_j = []\n",
    "    n = L_i.shape[0] # количество районов\n",
    "    for i in range(1, n+1): # нумерация районов начинается с 1\n",
    "        for j in range(1, n+1):\n",
    "            value_i = L_i.loc[L_i['i'] == i]['amt']\n",
    "            value_j = W_j.loc[W_j['j'] == j]['amt']\n",
    "            value_i = int(value_i)\n",
    "            value_j = int(value_j)\n",
    "            denominator_i = B_j*value_i*costs_func(i, j, alpha)\n",
    "            denominator_j = A_i*value_j*costs_func(i, j, alpha)\n",
    "            if denominator_i!=0:\n",
    "                A_i += denominator_i \n",
    "                list_A_i.append(1 / A_i) # вызывает вопросы обращать тут или строкой выше\n",
    "            else:\n",
    "                list_A_i.append(0)\n",
    "            if denominator_j!=0:\n",
    "                B_j += denominator_j\n",
    "                list_B_j.append(1 / B_j)\n",
    "            else:\n",
    "                list_B_j.append(0)\n",
    "\n",
    "    return list_A_i, list_B_j"
   ]
  },
  {
   "cell_type": "markdown",
   "metadata": {},
   "source": [
    "###### Пр мнмзрвать фнкцинл, Птчк"
   ]
  },
  {
   "cell_type": "code",
   "execution_count": 11,
   "metadata": {},
   "outputs": [],
   "source": [
    "def gravity_func(alpha):\n",
    "    n = L_i.shape[0] # количество районов\n",
    "    d_i_j = np.zeros((n+1, n+1))\n",
    "    list_A_i, list_B_j = iteration_method(L_i, W_j, alpha) # добавлено сюда, чтобы считать с нужным alpha\n",
    "    for i in range(1, n+1): # нумерация районов начинается с 1\n",
    "        for j in range(1, n+1):\n",
    "\n",
    "            value_i = L_i.loc[L_i['i'] == i]['amt']\n",
    "            value_j = W_j.loc[W_j['j'] == j]['amt']\n",
    "            value_i = int(value_i)\n",
    "            value_j = int(value_j)\n",
    "            cost = costs_func(i, j, alpha)\n",
    "            if cost!=0:\n",
    "                d_i_j[i][j] = (list_A_i[i]*list_B_j[j]*value_i*value_j)*cost #умножить потому что -alpha в функции\n",
    "            else:\n",
    "                d_i_j[i][j] = 0\n",
    "    return d_i_j\n",
    "\n",
    "def minimaze_func(real_d_i_j, alpha):\n",
    "    d_i_j = gravity_func(alpha) # добавлено сюда, чтобы считать с нужным alpha\n",
    "    n = L_i.shape[0] # количество районов\n",
    "    s = 0\n",
    "    for i in range(n):\n",
    "        for j in range(n):\n",
    "            s += (real_d_i_j[i][j] - d_i_j[i][j])**2\n",
    "    return s\n",
    "\n",
    "def get_real_d_i_j(df): # чтобы натыкать нулей в местах, где нет пересечений\n",
    "    n = L_i.shape[0]\n",
    "    real_d = np.zeros((n+1, n+1))\n",
    "    for i in range(1, n+1):\n",
    "        for j in range(1, n+1):\n",
    "            value = df.loc[df['i'] == i]\n",
    "            value = value.loc[value['j'] == j]['amt']\n",
    "            try:\n",
    "                value = int(value)\n",
    "            except TypeError: # если не пересекается район i с районом j\n",
    "                value = 0\n",
    "            real_d[i][j] = value\n",
    "    return real_d"
   ]
  },
  {
   "cell_type": "markdown",
   "metadata": {},
   "source": [
    "##### графики ниже БЕЗ поправок Мерузы и исправленной минимизирующей функции"
   ]
  },
  {
   "cell_type": "code",
   "execution_count": 14,
   "metadata": {},
   "outputs": [],
   "source": [
    "real_d_i_j = get_real_d_i_j(df)"
   ]
  },
  {
   "cell_type": "code",
   "execution_count": 15,
   "metadata": {},
   "outputs": [
    {
     "name": "stderr",
     "output_type": "stream",
     "text": [
      "/usr/local/Cellar/ipython/7.1.1/libexec/vendor/lib/python3.7/site-packages/ipykernel_launcher.py:25: RuntimeWarning: overflow encountered in double_scalars\n",
      "/usr/local/Cellar/ipython/7.1.1/libexec/vendor/lib/python3.7/site-packages/ipykernel_launcher.py:26: RuntimeWarning: overflow encountered in double_scalars\n",
      "/usr/local/Cellar/ipython/7.1.1/libexec/vendor/lib/python3.7/site-packages/ipykernel_launcher.py:25: RuntimeWarning: invalid value encountered in double_scalars\n",
      "/usr/local/Cellar/ipython/7.1.1/libexec/vendor/lib/python3.7/site-packages/ipykernel_launcher.py:26: RuntimeWarning: invalid value encountered in double_scalars\n"
     ]
    },
    {
     "name": "stdout",
     "output_type": "stream",
     "text": [
      "alpha:  0.0 min:  117039.99434314598\n",
      "alpha:  0.01 min:  117039.98077377593\n",
      "alpha:  0.02 min:  117039.93531075206\n",
      "alpha:  0.03 min:  117039.78566795413\n",
      "alpha:  0.04 min:  117039.30590902446\n",
      "alpha:  0.05 min:  117037.82454501034\n",
      "alpha:  0.06 min:  117033.47909015707\n",
      "alpha:  0.07 min:  117021.55541929668\n",
      "alpha:  0.08 min:  116991.42632242411\n",
      "alpha:  0.09 min:  116922.06240810403\n",
      "alpha:  0.1 min:  116777.2497791617\n",
      "alpha:  0.11 min:  116504.99827656975\n",
      "alpha:  0.12 min:  116049.8137719443\n",
      "alpha:  0.13 min:  115378.32212085077\n",
      "alpha:  0.14 min:  114493.6879479648\n",
      "alpha:  0.15 min:  113417.68731550305\n",
      "alpha:  0.16 min:  112168.29231512832\n",
      "alpha:  0.17 min:  110771.30035299927\n",
      "alpha:  0.18 min:  109291.88570136619\n",
      "alpha:  0.19 min:  107844.429498997\n",
      "alpha:  0.2 min:  106571.44326018143\n",
      "alpha:  0.21 min:  105611.24367881556\n",
      "alpha:  0.22 min:  105067.58958337724\n",
      "alpha:  0.23 min:  104987.059211989\n",
      "alpha:  0.24 min:  105352.11105358912\n",
      "alpha:  0.25 min:  106092.05085768277\n",
      "alpha:  0.26 min:  107104.29144089243\n",
      "alpha:  0.27 min:  108276.47366034899\n",
      "alpha:  0.28 min:  109504.1911008159\n",
      "alpha:  0.29 min:  110702.57692606529\n",
      "alpha:  0.3 min:  111811.59443642723\n",
      "alpha:  0.31 min:  112795.89499942987\n",
      "alpha:  0.32 min:  113640.95779556649\n",
      "alpha:  0.33 min:  114347.52546093627\n",
      "alpha:  0.34 min:  114926.00290653022\n",
      "alpha:  0.35000000000000003 min:  115391.80951567893\n",
      "alpha:  0.36 min:  115762.03311432373\n",
      "alpha:  0.37 min:  116053.31289711289\n",
      "alpha:  0.38 min:  116280.68701974004\n",
      "alpha:  0.39 min:  116457.1063423316\n",
      "alpha:  0.4 min:  116593.35990332608\n",
      "alpha:  0.41000000000000003 min:  116698.22560953413\n",
      "alpha:  0.42 min:  116778.72319929057\n",
      "alpha:  0.43 min:  116840.395602148\n",
      "alpha:  0.44 min:  116887.57858876638\n",
      "alpha:  0.45 min:  116923.63995404444\n",
      "alpha:  0.46 min:  116951.18197902493\n",
      "alpha:  0.47000000000000003 min:  116972.20763622617\n",
      "alpha:  0.48 min:  116988.2541881844\n",
      "alpha:  0.49 min:  117000.49898796577\n"
     ]
    }
   ],
   "source": [
    "alpha_list = []\n",
    "minimize_list =[]\n",
    "for alpha in np.arange(0, 0.5, 0.01):\n",
    "    value = minimaze_func(real_d_i_j, alpha)\n",
    "    print('alpha: ', alpha, 'min: ', value)\n",
    "    alpha_list.append(alpha)\n",
    "    minimize_list.append(value)"
   ]
  },
  {
   "cell_type": "code",
   "execution_count": 20,
   "metadata": {},
   "outputs": [
    {
     "data": {
      "image/png": "[encoded data removed]",
      "text/plain": [
       "<Figure size 432x288 with 1 Axes>"
      ]
     },
     "metadata": {
      "needs_background": "light"
     },
     "output_type": "display_data"
    }
   ],
   "source": [
    "plt.plot(alpha_list, minimize_list, 'ro')\n",
    "plt.title('зависимость минимизирующего функционала от alpha')\n",
    "plt.xlabel('alpha')\n",
    "plt.ylabel('минимизирующий функционал') # см. функцию  minimaze_func\n",
    "# xlim(0, 0.2)\n",
    "# ylim(5000, 10000)\n",
    "plt.show()"
   ]
  },
  {
   "cell_type": "code",
   "execution_count": 18,
   "metadata": {},
   "outputs": [
    {
     "data": {
      "image/png": "[encoded data removed]",
      "text/plain": [
       "<Figure size 432x288 with 1 Axes>"
      ]
     },
     "metadata": {
      "needs_background": "light"
     },
     "output_type": "display_data"
    }
   ],
   "source": [
    "# более приближенный график\n",
    "plt.plot(alpha_list, minimize_list, 'ro')\n",
    "xlim(0.2, 0.3)\n",
    "plt.show()"
   ]
  },
  {
   "cell_type": "markdown",
   "metadata": {},
   "source": [
    "##### Поправки Мерузы\n",
    "\n",
    "1. Отнормировать минимизируемую функцию (minimize_func) по alpha = 0\n",
    "2. Издержки сделать бесконечностью\n",
    "\n",
    "##### Далее исправлен ТОЛЬКО первый пункт"
   ]
  },
  {
   "cell_type": "code",
   "execution_count": 44,
   "metadata": {},
   "outputs": [],
   "source": [
    "def minimaze_func(real_d_i_j, alpha):\n",
    "    d_i_j = gravity_func(alpha) # добавлено сюда, чтобы считать с нужным alpha\n",
    "    d_i_j_alpha_0 = gravity_func(alpha=0)\n",
    "    n = L_i.shape[0] # количество районов\n",
    "    s = 0\n",
    "    for i in range(n):\n",
    "        for j in range(n):\n",
    "            numerator = (real_d_i_j[i][j] - d_i_j[i][j])**2 # числитель\n",
    "            denominator = (real_d_i_j[i][j] - d_i_j_alpha_0[i][j])**2 # знаменатель\n",
    "            if denominator != 0:\n",
    "                s += numerator / denominator\n",
    "            else:\n",
    "                s += 0\n",
    "    return s"
   ]
  },
  {
   "cell_type": "code",
   "execution_count": 43,
   "metadata": {},
   "outputs": [
    {
     "name": "stderr",
     "output_type": "stream",
     "text": [
      "/usr/local/Cellar/ipython/7.1.1/libexec/vendor/lib/python3.7/site-packages/ipykernel_launcher.py:23: RuntimeWarning: overflow encountered in double_scalars\n",
      "/usr/local/Cellar/ipython/7.1.1/libexec/vendor/lib/python3.7/site-packages/ipykernel_launcher.py:24: RuntimeWarning: overflow encountered in double_scalars\n",
      "/usr/local/Cellar/ipython/7.1.1/libexec/vendor/lib/python3.7/site-packages/ipykernel_launcher.py:23: RuntimeWarning: invalid value encountered in double_scalars\n",
      "/usr/local/Cellar/ipython/7.1.1/libexec/vendor/lib/python3.7/site-packages/ipykernel_launcher.py:24: RuntimeWarning: invalid value encountered in double_scalars\n"
     ]
    },
    {
     "name": "stdout",
     "output_type": "stream",
     "text": [
      "alpha:  0.0 min:  206.0\n",
      "alpha:  0.01 min:  205.99999654840633\n",
      "alpha:  0.02 min:  205.99998492979805\n",
      "alpha:  0.03 min:  205.99994641480657\n",
      "alpha:  0.04 min:  205.9998214430437\n",
      "alpha:  0.05 min:  205.9994274354781\n",
      "alpha:  0.06 min:  205.99823090383643\n",
      "alpha:  0.07 min:  205.9947648117176\n",
      "alpha:  0.08 min:  205.98525706833684\n",
      "alpha:  0.09 min:  205.96048931933584\n",
      "alpha:  0.1 min:  205.89896320455495\n",
      "alpha:  0.11 min:  205.75583508489382\n",
      "alpha:  0.12 min:  205.45321114908745\n",
      "alpha:  0.13 min:  204.87670770963476\n",
      "alpha:  0.14 min:  203.89812681785008\n",
      "alpha:  0.15 min:  202.6004403876101\n",
      "alpha:  0.16 min:  201.98003385806064\n",
      "alpha:  0.17 min:  204.52314793646622\n",
      "alpha:  0.18 min:  212.8778009474332\n",
      "alpha:  0.19 min:  226.9205841547136\n",
      "alpha:  0.2 min:  242.74064151971064\n",
      "alpha:  0.21 min:  255.02599003459227\n",
      "alpha:  0.22 min:  260.2445949045739\n",
      "alpha:  0.23 min:  257.9608672008692\n",
      "alpha:  0.24 min:  250.13564155414616\n",
      "alpha:  0.25 min:  239.64595801979087\n",
      "alpha:  0.26 min:  229.05713501115443\n",
      "alpha:  0.27 min:  220.02160211303308\n",
      "alpha:  0.28 min:  213.22837212274183\n",
      "alpha:  0.29 min:  208.65853481191508\n",
      "alpha:  0.3 min:  205.91540581902223\n",
      "alpha:  0.31 min:  204.49008682229262\n",
      "alpha:  0.32 min:  203.9183053715532\n",
      "alpha:  0.33 min:  203.84377608284248\n",
      "alpha:  0.34 min:  204.02360738688972\n",
      "alpha:  0.35000000000000003 min:  204.30754917797324\n",
      "alpha:  0.36 min:  204.61113697446183\n",
      "alpha:  0.37 min:  204.89220471644688\n",
      "alpha:  0.38 min:  205.13359874600786\n",
      "alpha:  0.39 min:  205.3317468629941\n",
      "alpha:  0.4 min:  205.48968146359243\n",
      "alpha:  0.41000000000000003 min:  205.61307339413264\n",
      "alpha:  0.42 min:  205.70814362651615\n",
      "alpha:  0.43 min:  205.78067316390275\n",
      "alpha:  0.44 min:  205.8356172596263\n",
      "alpha:  0.45 min:  205.8770295705809\n",
      "alpha:  0.46 min:  205.90812977488235\n",
      "alpha:  0.47000000000000003 min:  205.9314254291248\n",
      "alpha:  0.48 min:  205.9488433191098\n",
      "alpha:  0.49 min:  205.96185006075916\n"
     ]
    }
   ],
   "source": [
    "real_d_i_j = get_real_d_i_j(df)\n",
    "\n",
    "alpha_list = []\n",
    "minimize_list =[]\n",
    "for alpha in np.arange(0, 0.5, 0.01):\n",
    "    value = minimaze_func(real_d_i_j, alpha)\n",
    "    alpha_list.append(alpha)\n",
    "    minimize_list.append(value)\n",
    "    print('alpha: ', alpha, 'min: ', value)"
   ]
  },
  {
   "cell_type": "code",
   "execution_count": 45,
   "metadata": {},
   "outputs": [
    {
     "data": {
      "image/png": "[encoded data removed]",
      "text/plain": [
       "<Figure size 432x288 with 1 Axes>"
      ]
     },
     "metadata": {
      "needs_background": "light"
     },
     "output_type": "display_data"
    }
   ],
   "source": [
    "plt.plot(alpha_list, minimize_list, 'ro')\n",
    "plt.title('зависимость минимизирующего функционала от alpha')\n",
    "plt.xlabel('alpha')\n",
    "plt.ylabel('минимизирующий функционал') # см. функцию  minimaze_func\n",
    "# xlim(0, 0.2)\n",
    "# ylim(5000, 10000)\n",
    "plt.show()"
   ]
  },
  {
   "cell_type": "markdown",
   "metadata": {},
   "source": [
    "##### Первый и второй пункт сразу, нули исправлены на np.inf()"
   ]
  },
  {
   "cell_type": "code",
   "execution_count": 131,
   "metadata": {},
   "outputs": [],
   "source": [
    "def costs_func(i, j, alpha):\n",
    "    rows = df.loc[df['i'] == i]\n",
    "    columns = rows.loc[df['j'] == j]\n",
    "    t = columns['t'] # потому что издержки -- это время\n",
    "    try:\n",
    "        t = int(t)\n",
    "        return np.exp(np.dot(-alpha, t))\n",
    "    except TypeError: # если не пересекается район i с районом j\n",
    "        return np.inf # возвращаем бесконечность\n",
    "\n",
    "def iteration_method(L_i, W_j, alpha):\n",
    "    A_i = 1\n",
    "    B_j = 1\n",
    "    list_A_i = []\n",
    "    list_B_j = []\n",
    "    n = L_i.shape[0] # количество районов\n",
    "    for i in range(1, n+1): # нумерация районов начинается с 1\n",
    "        for j in range(1, n+1):\n",
    "            value_i = L_i.loc[L_i['i'] == i]['amt']\n",
    "            value_j = W_j.loc[W_j['j'] == j]['amt']\n",
    "            value_i = int(value_i)\n",
    "            value_j = int(value_j)\n",
    "            denominator_i = B_j*value_i*costs_func(i, j, alpha)\n",
    "            denominator_j = A_i*value_j*costs_func(i, j, alpha)\n",
    "            \n",
    "            if np.isinf(denominator_i): # если не пересекаются районы, т.е. бесконечность\n",
    "                list_A_i.append(np.inf) # добавляем бесконечность\n",
    "            else:\n",
    "                A_i += denominator_i \n",
    "                list_A_i.append(1 / A_i)\n",
    "            if np.isinf(denominator_j):\n",
    "                list_B_j.append(np.inf)\n",
    "            else:\n",
    "                B_j += denominator_j\n",
    "                list_B_j.append(1 / B_j)\n",
    "    return list_A_i, list_B_j\n",
    "\n",
    "def gravity_func(alpha):\n",
    "    n = L_i.shape[0] # количество районов\n",
    "    d_i_j = np.zeros((n+1, n+1))\n",
    "    list_A_i, list_B_j = iteration_method(L_i, W_j, alpha) # добавлено сюда, чтобы считать с нужным alpha\n",
    "    for i in range(1, n+1): # нумерация районов начинается с 1\n",
    "        for j in range(1, n+1):\n",
    "\n",
    "            value_i = L_i.loc[L_i['i'] == i]['amt']\n",
    "            value_j = W_j.loc[W_j['j'] == j]['amt']\n",
    "            value_i = int(value_i)\n",
    "            value_j = int(value_j)\n",
    "            cost = costs_func(i, j, alpha)\n",
    "            if np.isinf(cost):\n",
    "                d_i_j[i][j] = np.inf\n",
    "            else:\n",
    "                d_i_j[i][j] = (list_A_i[i]*list_B_j[j]*value_i*value_j)*cost #умножить потому что -alpha в функции\n",
    "    return d_i_j\n",
    "\n",
    "def minimaze_func(real_d_i_j, alpha):\n",
    "    d_i_j = gravity_func(alpha) # добавлено сюда, чтобы считать с нужным alpha\n",
    "    d_i_j_alpha_0 = gravity_func(alpha=0)\n",
    "    n = L_i.shape[0] # количество районов\n",
    "    s = 0\n",
    "    list_s = []\n",
    "    for i in range(n):\n",
    "        for j in range(n):\n",
    "            numerator = (real_d_i_j[i][j] - d_i_j[i][j])**2 # числитель\n",
    "            denominator = (real_d_i_j[i][j] - d_i_j_alpha_0[i][j])**2 # знаменатель\n",
    "            if np.isinf(denominator):\n",
    "                s += np.inf\n",
    "                list_s.append(np.inf)\n",
    "            else:\n",
    "                if denominator != 0:\n",
    "                    s += numerator / denominator\n",
    "                    list_s.append(numerator / denominator)\n",
    "                else:\n",
    "                    s += 0\n",
    "                    list_s.append(0)\n",
    "    return s, list_s\n",
    "\n",
    "def get_real_d_i_j(df): # чтобы натыкать нулей в местах, где нет пересечений\n",
    "    n = L_i.shape[0]\n",
    "    real_d = np.zeros((n+1, n+1))\n",
    "    for i in range(1, n+1):\n",
    "        for j in range(1, n+1):\n",
    "            value = df.loc[df['i'] == i]\n",
    "            value = value.loc[value['j'] == j]['amt']\n",
    "            try:\n",
    "                value = int(value)\n",
    "            except TypeError: # если не пересекается район i с районом j\n",
    "                value = np.inf\n",
    "            real_d[i][j] = value\n",
    "    return real_d"
   ]
  },
  {
   "cell_type": "code",
   "execution_count": 132,
   "metadata": {},
   "outputs": [
    {
     "name": "stderr",
     "output_type": "stream",
     "text": [
      "/usr/local/Cellar/ipython/7.1.1/libexec/vendor/lib/python3.7/site-packages/ipykernel_launcher.py:23: RuntimeWarning: overflow encountered in double_scalars\n",
      "/usr/local/Cellar/ipython/7.1.1/libexec/vendor/lib/python3.7/site-packages/ipykernel_launcher.py:24: RuntimeWarning: overflow encountered in double_scalars\n",
      "/usr/local/Cellar/ipython/7.1.1/libexec/vendor/lib/python3.7/site-packages/ipykernel_launcher.py:34: RuntimeWarning: overflow encountered in double_scalars\n",
      "/usr/local/Cellar/ipython/7.1.1/libexec/vendor/lib/python3.7/site-packages/ipykernel_launcher.py:64: RuntimeWarning: invalid value encountered in double_scalars\n",
      "/usr/local/Cellar/ipython/7.1.1/libexec/vendor/lib/python3.7/site-packages/ipykernel_launcher.py:65: RuntimeWarning: invalid value encountered in double_scalars\n"
     ]
    },
    {
     "name": "stdout",
     "output_type": "stream",
     "text": [
      "alpha:  0.0 min:  nan\n",
      "alpha:  0.1 min:  nan\n",
      "alpha:  0.2 min:  nan\n"
     ]
    }
   ],
   "source": [
    "real_d_i_j = get_real_d_i_j(df)\n",
    "list_s = []\n",
    "alpha_list = []\n",
    "minimize_list =[]\n",
    "\n",
    "for alpha in np.arange(0, 0.3, 0.1):\n",
    "    value, list_s = minimaze_func(real_d_i_j, alpha)\n",
    "    alpha_list.append(alpha)\n",
    "    minimize_list.append(value)\n",
    "    print('alpha: ', alpha, 'min: ', value)"
   ]
  },
  {
   "cell_type": "code",
   "execution_count": 136,
   "metadata": {},
   "outputs": [
    {
     "data": {
      "image/png": "[encoded data removed]",
      "text/plain": [
       "<Figure size 432x288 with 1 Axes>"
      ]
     },
     "metadata": {
      "needs_background": "light"
     },
     "output_type": "display_data"
    }
   ],
   "source": [
    "plt.plot(list_s, 'ro')\n",
    "plt.title('просто s в каждой точке цикла по районам, чтобы посмотреть как оно изменяется')\n",
    "# xlim(0, 0.2)\n",
    "# ylim(0, 1)\n",
    "plt.show()"
   ]
  },
  {
   "cell_type": "markdown",
   "metadata": {},
   "source": [
    "##### Первый и второй пункт сразу, нули исправлены не на np.inf, а на самую большую издержку В КВАДРАТЕ, что есть у нас в таблице"
   ]
  },
  {
   "cell_type": "code",
   "execution_count": 12,
   "metadata": {},
   "outputs": [
    {
     "name": "stdout",
     "output_type": "stream",
     "text": [
      "57600.0\n"
     ]
    }
   ],
   "source": [
    "max_t = df.loc[df['t'].idxmax()]\n",
    "max_t = max_t['t']\n",
    "max_t = max_t**2\n",
    "print(max_t)"
   ]
  },
  {
   "cell_type": "code",
   "execution_count": 13,
   "metadata": {},
   "outputs": [],
   "source": [
    "def costs_func(i, j, alpha):\n",
    "    rows = df.loc[df['i'] == i]\n",
    "    columns = rows.loc[df['j'] == j]\n",
    "    t = columns['t'] # потому что издержки -- это время\n",
    "    try:\n",
    "        t = int(t)\n",
    "        return np.exp(np.dot(-alpha, t))\n",
    "    except TypeError: # если не пересекается район i с районом j\n",
    "        return max_t\n",
    "\n",
    "def iteration_method(L_i, W_j, alpha):\n",
    "    A_i = 1\n",
    "    B_j = 1\n",
    "    list_A_i = []\n",
    "    list_B_j = []\n",
    "    n = L_i.shape[0] # количество районов\n",
    "    for i in range(1, n+1): # нумерация районов начинается с 1\n",
    "        for j in range(1, n+1):\n",
    "            value_i = L_i.loc[L_i['i'] == i]['amt']\n",
    "            value_j = W_j.loc[W_j['j'] == j]['amt']\n",
    "            value_i = int(value_i)\n",
    "            value_j = int(value_j)\n",
    "            denominator_i = B_j*value_i*costs_func(i, j, alpha)\n",
    "            denominator_j = A_i*value_j*costs_func(i, j, alpha)\n",
    "            if denominator_i!=0:\n",
    "                A_i += denominator_i \n",
    "                list_A_i.append(1 / A_i) # вызывает вопросы обращать тут или строкой выше\n",
    "            else:\n",
    "                list_A_i.append(0)\n",
    "            if denominator_j!=0:\n",
    "                B_j += denominator_j\n",
    "                list_B_j.append(1 / B_j)\n",
    "            else:\n",
    "                list_B_j.append(0)\n",
    "\n",
    "    return list_A_i, list_B_j\n",
    "\n",
    "def gravity_func(alpha):\n",
    "    n = L_i.shape[0] # количество районов\n",
    "    d_i_j = np.zeros((n+1, n+1))\n",
    "    list_A_i, list_B_j = iteration_method(L_i, W_j, alpha) # добавлено сюда, чтобы считать с нужным alpha\n",
    "    for i in range(1, n+1): # нумерация районов начинается с 1\n",
    "        for j in range(1, n+1):\n",
    "\n",
    "            value_i = L_i.loc[L_i['i'] == i]['amt']\n",
    "            value_j = W_j.loc[W_j['j'] == j]['amt']\n",
    "            value_i = int(value_i)\n",
    "            value_j = int(value_j)\n",
    "            cost = costs_func(i, j, alpha)\n",
    "            if cost!=0:\n",
    "                d_i_j[i][j] = (list_A_i[i]*list_B_j[j]*value_i*value_j)*cost #умножить потому что -alpha в функции\n",
    "            else:\n",
    "                d_i_j[i][j] = 0\n",
    "    return d_i_j\n",
    "\n",
    "def minimaze_func(real_d_i_j, alpha):\n",
    "    d_i_j = gravity_func(alpha) # добавлено сюда, чтобы считать с нужным alpha\n",
    "    d_i_j_alpha_0 = gravity_func(alpha=0)\n",
    "    n = L_i.shape[0] # количество районов\n",
    "    s = 0\n",
    "    for i in range(n):\n",
    "        for j in range(n):\n",
    "            numerator = (real_d_i_j[i][j] - d_i_j[i][j])**2 # числитель\n",
    "            denominator = (real_d_i_j[i][j] - d_i_j_alpha_0[i][j])**2 # знаменатель\n",
    "            if denominator != 0:\n",
    "                s += numerator / denominator\n",
    "#                 print(s, numerator, denominator)\n",
    "            else:\n",
    "                s += 0\n",
    "    return s\n",
    "\n",
    "def get_real_d_i_j(df): # чтобы натыкать нулей в местах, где нет пересечений\n",
    "    n = L_i.shape[0]\n",
    "    real_d = np.zeros((n+1, n+1))\n",
    "    for i in range(1, n+1):\n",
    "        for j in range(1, n+1):\n",
    "            value = df.loc[df['i'] == i]\n",
    "            value = value.loc[value['j'] == j]['amt']\n",
    "            try:\n",
    "                value = int(value)\n",
    "            except TypeError: # если не пересекается район i с районом j\n",
    "                value = 0\n",
    "            real_d[i][j] = value\n",
    "    return real_d"
   ]
  },
  {
   "cell_type": "code",
   "execution_count": 125,
   "metadata": {},
   "outputs": [
    {
     "name": "stderr",
     "output_type": "stream",
     "text": [
      "/usr/local/Cellar/ipython/7.1.1/libexec/vendor/lib/python3.7/site-packages/ipykernel_launcher.py:23: RuntimeWarning: overflow encountered in double_scalars\n",
      "/usr/local/Cellar/ipython/7.1.1/libexec/vendor/lib/python3.7/site-packages/ipykernel_launcher.py:24: RuntimeWarning: overflow encountered in double_scalars\n"
     ]
    },
    {
     "name": "stdout",
     "output_type": "stream",
     "text": [
      "alpha:  0.0 min:  427.0\n",
      "alpha:  0.1 min:  1.690594294297507e+67\n",
      "alpha:  0.2 min:  1.3760978424480482e+84\n",
      "alpha:  0.30000000000000004 min:  1.486257161203373e+87\n",
      "alpha:  0.4 min:  3.8379807148007863e+87\n",
      "alpha:  0.5 min:  4.121130360725836e+87\n",
      "alpha:  0.6000000000000001 min:  4.141211336945963e+87\n",
      "alpha:  0.7000000000000001 min:  4.142610232989188e+87\n",
      "alpha:  0.8 min:  4.142709355067351e+87\n",
      "alpha:  0.9 min:  4.14271647986346e+87\n",
      "alpha:  1.0 min:  4.142716997274834e+87\n",
      "alpha:  1.1 min:  4.142717035120176e+87\n",
      "alpha:  1.2000000000000002 min:  4.1427170379020214e+87\n",
      "alpha:  1.3 min:  4.14271703810719e+87\n",
      "alpha:  1.4000000000000001 min:  4.1427170381223535e+87\n",
      "alpha:  1.5 min:  4.142717038123482e+87\n",
      "alpha:  1.6 min:  4.142717038123561e+87\n",
      "alpha:  1.7000000000000002 min:  4.142717038123565e+87\n",
      "alpha:  1.8 min:  4.142717038123565e+87\n",
      "alpha:  1.9000000000000001 min:  4.142717038123565e+87\n",
      "alpha:  2.0 min:  4.142717038123565e+87\n"
     ]
    }
   ],
   "source": [
    "real_d_i_j = get_real_d_i_j(df)\n",
    "list_s = []\n",
    "alpha_list = []\n",
    "minimize_list = []\n",
    "\n",
    "for alpha in np.arange(0, 2.1, 0.1):\n",
    "    value = minimaze_func(real_d_i_j, alpha)\n",
    "    alpha_list.append(alpha)\n",
    "    minimize_list.append(value)\n",
    "    print('alpha: ', alpha, 'min: ', value)"
   ]
  },
  {
   "cell_type": "code",
   "execution_count": 128,
   "metadata": {},
   "outputs": [
    {
     "data": {
      "image/png": "[encoded data removed]",
      "text/plain": [
       "<Figure size 432x288 with 1 Axes>"
      ]
     },
     "metadata": {
      "needs_background": "light"
     },
     "output_type": "display_data"
    }
   ],
   "source": [
    "plt.plot(alpha_list, minimize_list, 'ro')\n",
    "plt.title('зависимость минимизирующего функционала от alpha')\n",
    "plt.xlabel('alpha')\n",
    "plt.ylabel('минимизирующий функционал') # см. функцию  minimaze_func\n",
    "# xlim(0, 0.25)\n",
    "# ylim(5000, 10000)\n",
    "plt.show()"
   ]
  },
  {
   "cell_type": "code",
   "execution_count": 14,
   "metadata": {},
   "outputs": [
    {
     "name": "stderr",
     "output_type": "stream",
     "text": [
      "/usr/local/Cellar/ipython/7.1.1/libexec/vendor/lib/python3.7/site-packages/ipykernel_launcher.py:23: RuntimeWarning: overflow encountered in double_scalars\n",
      "/usr/local/Cellar/ipython/7.1.1/libexec/vendor/lib/python3.7/site-packages/ipykernel_launcher.py:24: RuntimeWarning: overflow encountered in double_scalars\n"
     ]
    },
    {
     "name": "stdout",
     "output_type": "stream",
     "text": [
      "alpha:  0.0 min:  427.0\n",
      "alpha:  0.01 min:  3019291376.023451\n",
      "alpha:  0.02 min:  8.383387009019386e+16\n",
      "alpha:  0.03 min:  2.431910324110451e+24\n",
      "alpha:  0.04 min:  6.140990828256307e+31\n",
      "alpha:  0.05 min:  1.0389119980620333e+39\n",
      "alpha:  0.06 min:  7.628650401072488e+45\n",
      "alpha:  0.07 min:  1.5696411567514395e+52\n",
      "alpha:  0.08 min:  7.537098341164558e+57\n",
      "alpha:  0.09 min:  8.024966815625137e+62\n",
      "alpha:  0.1 min:  1.690594294297507e+67\n",
      "alpha:  0.11 min:  6.617364702434282e+70\n",
      "alpha:  0.12 min:  5.304840499025599e+73\n",
      "alpha:  0.13 min:  1.0845783213455936e+76\n",
      "alpha:  0.14 min:  7.41535639542682e+77\n",
      "alpha:  0.15 min:  2.24620465222087e+79\n",
      "alpha:  0.16 min:  3.875016218156094e+80\n",
      "alpha:  0.17 min:  4.5479973806530315e+81\n",
      "alpha:  0.18 min:  3.982391355269703e+82\n",
      "alpha:  0.19 min:  2.673753898157704e+83\n",
      "alpha:  0.2 min:  1.3760978424480482e+84\n",
      "alpha:  0.21 min:  5.46084941038352e+84\n",
      "alpha:  0.22 min:  1.7136360436037515e+85\n",
      "alpha:  0.23 min:  4.420275528673924e+85\n",
      "alpha:  0.24 min:  9.75370892021507e+85\n",
      "alpha:  0.25 min:  1.9015220113646485e+86\n",
      "alpha:  0.26 min:  3.349402842478372e+86\n",
      "alpha:  0.27 min:  5.408848553341459e+86\n",
      "alpha:  0.28 min:  8.089682035550576e+86\n",
      "alpha:  0.29 min:  1.1300533651371324e+87\n",
      "alpha:  0.3 min:  1.4862571612033717e+87\n",
      "alpha:  0.31 min:  1.8552629848759025e+87\n",
      "alpha:  0.32 min:  2.2154535390872067e+87\n",
      "alpha:  0.33 min:  2.5497763658146995e+87\n",
      "alpha:  0.34 min:  2.8474245415517795e+87\n",
      "alpha:  0.35000000000000003 min:  3.1036016911410983e+87\n",
      "alpha:  0.36 min:  3.318196322851162e+87\n",
      "alpha:  0.37 min:  3.494154339158009e+87\n",
      "alpha:  0.38 min:  3.636039750540417e+87\n",
      "alpha:  0.39 min:  3.7489771842306798e+87\n",
      "alpha:  0.4 min:  3.8379807148007863e+87\n",
      "alpha:  0.41000000000000003 min:  3.907589811579339e+87\n",
      "alpha:  0.42 min:  3.9617163069283494e+87\n",
      "alpha:  0.43 min:  4.003620320202855e+87\n",
      "alpha:  0.44 min:  4.035955754626845e+87\n",
      "alpha:  0.45 min:  4.060846877915814e+87\n",
      "alpha:  0.46 min:  4.0799732582823585e+87\n",
      "alpha:  0.47000000000000003 min:  4.094650932990972e+87\n",
      "alpha:  0.48 min:  4.105904253886485e+87\n",
      "alpha:  0.49 min:  4.114526627800503e+87\n",
      "alpha:  0.5 min:  4.121130360725836e+87\n",
      "alpha:  0.51 min:  4.1261867388070245e+87\n",
      "alpha:  0.52 min:  4.130057802863392e+87\n",
      "alpha:  0.53 min:  4.1330212827003e+87\n",
      "alpha:  0.54 min:  4.135290020053543e+87\n",
      "alpha:  0.55 min:  4.137027017346552e+87\n",
      "alpha:  0.56 min:  4.138357051711506e+87\n",
      "alpha:  0.5700000000000001 min:  4.139375612605126e+87\n",
      "alpha:  0.58 min:  4.140155765514996e+87\n",
      "alpha:  0.59 min:  4.140753415130288e+87\n",
      "alpha:  0.6 min:  4.141211336945963e+87\n",
      "alpha:  0.61 min:  4.141562263238172e+87\n",
      "alpha:  0.62 min:  4.1418312440763825e+87\n",
      "alpha:  0.63 min:  4.142037453148426e+87\n",
      "alpha:  0.64 min:  4.142195568733351e+87\n",
      "alpha:  0.65 min:  4.142316829721058e+87\n",
      "alpha:  0.66 min:  4.1424098431628995e+87\n",
      "alpha:  0.67 min:  4.1424812018664365e+87\n",
      "alpha:  0.68 min:  4.142535956775605e+87\n",
      "alpha:  0.6900000000000001 min:  4.142577978336788e+87\n",
      "alpha:  0.7000000000000001 min:  4.142610232989188e+87\n",
      "alpha:  0.71 min:  4.142634994755416e+87\n",
      "alpha:  0.72 min:  4.142654007198537e+87\n",
      "alpha:  0.73 min:  4.142668607414338e+87\n",
      "alpha:  0.74 min:  4.142679820978011e+87\n",
      "alpha:  0.75 min:  4.142688434664835e+87\n",
      "alpha:  0.76 min:  4.142695052159405e+87\n",
      "alpha:  0.77 min:  4.1427001367416606e+87\n",
      "alpha:  0.78 min:  4.142704044001095e+87\n",
      "alpha:  0.79 min:  4.142707046913557e+87\n",
      "alpha:  0.8 min:  4.142709355067351e+87\n",
      "alpha:  0.81 min:  4.142711129406884e+87\n",
      "alpha:  0.8200000000000001 min:  4.142712493540486e+87\n",
      "alpha:  0.8300000000000001 min:  4.142713542415252e+87\n",
      "alpha:  0.84 min:  4.142714348972708e+87\n",
      "alpha:  0.85 min:  4.142714969256392e+87\n",
      "alpha:  0.86 min:  4.1427154463320656e+87\n",
      "alpha:  0.87 min:  4.1427158132970045e+87\n",
      "alpha:  0.88 min:  4.142716095590488e+87\n",
      "alpha:  0.89 min:  4.142716312767926e+87\n",
      "alpha:  0.9 min:  4.14271647986346e+87\n",
      "alpha:  0.91 min:  4.1427166084364975e+87\n",
      "alpha:  0.92 min:  4.142716707375772e+87\n",
      "alpha:  0.93 min:  4.1427167835170085e+87\n",
      "alpha:  0.9400000000000001 min:  4.1427168421176805e+87\n",
      "alpha:  0.9500000000000001 min:  4.142716887221707e+87\n",
      "alpha:  0.96 min:  4.142716921939918e+87\n",
      "alpha:  0.97 min:  4.142716948665496e+87\n",
      "alpha:  0.98 min:  4.142716969239754e+87\n",
      "alpha:  0.99 min:  4.14271698507946e+87\n"
     ]
    }
   ],
   "source": [
    "real_d_i_j = get_real_d_i_j(df)\n",
    "list_s = []\n",
    "alpha_list = []\n",
    "minimize_list = []\n",
    "\n",
    "for alpha in np.arange(0, 1.0, 0.01):\n",
    "    value = minimaze_func(real_d_i_j, alpha)\n",
    "    alpha_list.append(alpha)\n",
    "    minimize_list.append(value)\n",
    "    print('alpha: ', alpha, 'min: ', value)"
   ]
  },
  {
   "cell_type": "code",
   "execution_count": 15,
   "metadata": {},
   "outputs": [
    {
     "data": {
      "image/png": "[encoded data removed]",
      "text/plain": [
       "<Figure size 432x288 with 1 Axes>"
      ]
     },
     "metadata": {
      "needs_background": "light"
     },
     "output_type": "display_data"
    }
   ],
   "source": [
    "plt.plot(alpha_list, minimize_list, 'ro')\n",
    "plt.title('зависимость минимизирующего функционала от alpha')\n",
    "plt.xlabel('alpha')\n",
    "plt.ylabel('минимизирующий функционал') # см. функцию  minimaze_func\n",
    "# xlim(0, 0.25)\n",
    "# ylim(5000, 10000)\n",
    "plt.show()"
   ]
  },
  {
   "cell_type": "markdown",
   "metadata": {},
   "source": [
    "##### Замечания на консультации\n",
    "1. Убрать нормализацию\n",
    "2. Добавить beta"
   ]
  },
  {
   "cell_type": "code",
   "execution_count": 16,
   "metadata": {},
   "outputs": [
    {
     "name": "stdout",
     "output_type": "stream",
     "text": [
      "57600.0\n"
     ]
    }
   ],
   "source": [
    "max_t = df.loc[df['t'].idxmax()]\n",
    "max_t = max_t['t']\n",
    "max_t = max_t**2\n",
    "print(max_t)\n",
    "\n",
    "def costs_func(i, j, alpha):\n",
    "    rows = df.loc[df['i'] == i]\n",
    "    columns = rows.loc[df['j'] == j]\n",
    "    t = columns['t'] # потому что издержки -- это время\n",
    "    try:\n",
    "        t = int(t)\n",
    "        return np.exp(np.dot(-alpha, t))\n",
    "    except TypeError: # если не пересекается район i с районом j\n",
    "        return max_t\n",
    "\n",
    "def iteration_method(L_i, W_j, alpha):\n",
    "    A_i = 1\n",
    "    B_j = 1\n",
    "    list_A_i = []\n",
    "    list_B_j = []\n",
    "    n = L_i.shape[0] # количество районов\n",
    "    for i in range(1, n+1): # нумерация районов начинается с 1\n",
    "        for j in range(1, n+1):\n",
    "            value_i = L_i.loc[L_i['i'] == i]['amt']\n",
    "            value_j = W_j.loc[W_j['j'] == j]['amt']\n",
    "            value_i = int(value_i)\n",
    "            value_j = int(value_j)\n",
    "            denominator_i = B_j*value_i*costs_func(i, j, alpha)\n",
    "            denominator_j = A_i*value_j*costs_func(i, j, alpha)\n",
    "            if denominator_i!=0:\n",
    "                A_i += denominator_i \n",
    "                list_A_i.append(1 / A_i) # вызывает вопросы обращать тут или строкой выше\n",
    "            else:\n",
    "                list_A_i.append(0)\n",
    "            if denominator_j!=0:\n",
    "                B_j += denominator_j\n",
    "                list_B_j.append(1 / B_j)\n",
    "            else:\n",
    "                list_B_j.append(0)\n",
    "\n",
    "    return list_A_i, list_B_j\n",
    "\n",
    "def gravity_func(alpha):\n",
    "    n = L_i.shape[0] # количество районов\n",
    "    d_i_j = np.zeros((n+1, n+1))\n",
    "    list_A_i, list_B_j = iteration_method(L_i, W_j, alpha) # добавлено сюда, чтобы считать с нужным alpha\n",
    "    for i in range(1, n+1): # нумерация районов начинается с 1\n",
    "        for j in range(1, n+1):\n",
    "\n",
    "            value_i = L_i.loc[L_i['i'] == i]['amt']\n",
    "            value_j = W_j.loc[W_j['j'] == j]['amt']\n",
    "            value_i = int(value_i)\n",
    "            value_j = int(value_j)\n",
    "            cost = costs_func(i, j, alpha)\n",
    "            if cost!=0:\n",
    "                d_i_j[i][j] = (list_A_i[i]*list_B_j[j]*value_i*value_j)*cost #умножить потому что -alpha в функции\n",
    "            else:\n",
    "                d_i_j[i][j] = 0\n",
    "    return d_i_j\n",
    "\n",
    "def minimaze_func(real_d_i_j, alpha, beta):\n",
    "    d_i_j = gravity_func(alpha) # добавлено сюда, чтобы считать с нужным alpha\n",
    "    n = L_i.shape[0] # количество районов\n",
    "    s = 0\n",
    "    for i in range(n):\n",
    "        for j in range(n):\n",
    "            s += (real_d_i_j[i][j] - d_i_j[i][j]**beta)**2\n",
    "    return s\n",
    "\n",
    "def get_real_d_i_j(df): # чтобы натыкать нулей в местах, где нет пересечений\n",
    "    n = L_i.shape[0]\n",
    "    real_d = np.zeros((n+1, n+1))\n",
    "    for i in range(1, n+1):\n",
    "        for j in range(1, n+1):\n",
    "            value = df.loc[df['i'] == i]\n",
    "            value = value.loc[value['j'] == j]['amt']\n",
    "            try:\n",
    "                value = int(value)\n",
    "            except TypeError: # если не пересекается район i с районом j\n",
    "                value = 0\n",
    "            real_d[i][j] = value\n",
    "    return real_d"
   ]
  },
  {
   "cell_type": "code",
   "execution_count": 40,
   "metadata": {},
   "outputs": [
    {
     "name": "stderr",
     "output_type": "stream",
     "text": [
      "/usr/local/Cellar/ipython/7.1.1/libexec/vendor/lib/python3.7/site-packages/ipykernel_launcher.py:28: RuntimeWarning: overflow encountered in double_scalars\n",
      "/usr/local/Cellar/ipython/7.1.1/libexec/vendor/lib/python3.7/site-packages/ipykernel_launcher.py:29: RuntimeWarning: overflow encountered in double_scalars\n",
      "/usr/local/Cellar/ipython/7.1.1/libexec/vendor/lib/python3.7/site-packages/ipykernel_launcher.py:28: RuntimeWarning: invalid value encountered in double_scalars\n",
      "/usr/local/Cellar/ipython/7.1.1/libexec/vendor/lib/python3.7/site-packages/ipykernel_launcher.py:29: RuntimeWarning: invalid value encountered in double_scalars\n"
     ]
    }
   ],
   "source": [
    "real_d_i_j = get_real_d_i_j(df)\n",
    "list_s = []\n",
    "alpha_list = []\n",
    "beta_list = []\n",
    "\n",
    "# n = 9\n",
    "# i = 0\n",
    "# print(np.shape(minimize_list))\n",
    "\n",
    "# for alpha in np.arange(0, 0.3, 0.1):\n",
    "#     for beta in np.arange(0, 0.3, 0.1):\n",
    "#         value = minimaze_func(real_d_i_j, alpha, beta)\n",
    "#         alpha_list.append(alpha)\n",
    "#         beta_list.append(beta)\n",
    "#         minimize_list[i] = value\n",
    "#         print('alpha: ', alpha, 'min: ', value)\n",
    "#         i += 0\n",
    "        \n",
    "alpha = 0\n",
    "beta = 0\n",
    "minimize_list = np.zeros((3, 3))\n",
    "for i in range(0, 3):\n",
    "    for j in range(0, 3):\n",
    "        \n",
    "        beta += 3*0.1\n",
    "        alpha += 4*0.1\n",
    "        value = minimaze_func(real_d_i_j, alpha, beta)\n",
    "        minimize_list[i][j] = value\n",
    "        alpha_list.append(alpha)\n",
    "        beta_list.append(beta)"
   ]
  },
  {
   "cell_type": "code",
   "execution_count": 42,
   "metadata": {},
   "outputs": [
    {
     "data": {
      "image/png": "[encoded data removed]",
      "text/plain": [
       "<Figure size 432x288 with 1 Axes>"
      ]
     },
     "metadata": {
      "needs_background": "light"
     },
     "output_type": "display_data"
    }
   ],
   "source": [
    "fig = plt.figure()\n",
    "ax = fig.gca(projection='3d') # get current axis\n",
    "\n",
    "alpha = np.arange(0, 0.3, 0.1)\n",
    "beta = np.arange(0, 0.3, 0.1)\n",
    "alpha, beta = np.meshgrid(alpha, beta)\n",
    "Z = minimize_list\n",
    "\n",
    "surf = ax.plot_surface(alpha, beta, Z)\n",
    "ax.set_xlabel('X')\n",
    "ax.set_ylabel('Y')\n",
    "ax.set_zlabel('Z')\n",
    "plt.show()"
   ]
  },
  {
   "cell_type": "code",
   "execution_count": null,
   "metadata": {},
   "outputs": [],
   "source": []
  }
 ],
 "metadata": {
  "kernelspec": {
   "display_name": "Python 3",
   "language": "python",
   "name": "python3"
  },
  "language_info": {
   "codemirror_mode": {
    "name": "ipython",
    "version": 3
   },
   "file_extension": ".py",
   "mimetype": "text/x-python",
   "name": "python",
   "nbconvert_exporter": "python",
   "pygments_lexer": "ipython3",
   "version": "3.7.0"
  }
 },
 "nbformat": 4,
 "nbformat_minor": 2
}
