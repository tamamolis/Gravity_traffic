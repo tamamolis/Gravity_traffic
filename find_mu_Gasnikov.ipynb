{
 "cells": [
  {
   "cell_type": "markdown",
   "metadata": {},
   "source": [
    "#### Задача расчёта матрицы корреспонденций\n",
    "\n",
    "$\\sum_{i, j = 1, 1}^{n, n}{T_{i, j}x_{i, j} + \\gamma \\sum_{i, j = 1, 1}^{n, n}x_{i, j}\\log{x_{i, j}}} \\rightarrow \\min$\n",
    "\n",
    "$\\sum_{j = 1}^n {x_{i, j} = l_i}, $\n",
    "$\\sum_{i = 1}^n {x_{i, j} = W_j}, $\n",
    "$ x_{i,j} \\ge 0\n",
    "$"
   ]
  },
  {
   "cell_type": "markdown",
   "metadata": {},
   "source": [
    "$\\langle{\\lambda, l}\\rangle + \\langle{\\mu, W}\\rangle + \\gamma \\log{\\sum_{i, j}^{n, n} \n",
    "\\exp{\\frac{\\lambda_i + \\mu_j - T_{}i, j}{\\gamma}}} \\rightarrow \\min_{\\lambda, \\mu} $"
   ]
  },
  {
   "cell_type": "markdown",
   "metadata": {},
   "source": [
    "Это двойственная задача к указанной выше, при условии $\\sum_{i=1, j=1}^{n, n} x_{i, j} = 1$. Как её решать? Можно с помощью быстрого градиентного спуска (см ниже)."
   ]
  },
  {
   "cell_type": "markdown",
   "metadata": {},
   "source": [
    "$x^{k + 1} = x^k - \\frac{1}{L} \\nabla f(x^k + \\frac{\\sqrt{L} - \\sqrt{\\mu}}{\\sqrt{L} + \\sqrt{\\mu}}(x^k - x^{k - 1})) + \\frac{\\sqrt{L} - \\sqrt{\\mu}}{\\sqrt{L} + \\sqrt{\\mu}}(x^k - x^{k - 1})$"
   ]
  },
  {
   "cell_type": "markdown",
   "metadata": {},
   "source": [
    "1. Выбираем $\\mu$. \n",
    "2. Потом $\\mu = \\frac{\\mu}{2}$.\n",
    "3. И так далее\n",
    "4. Если сошлось с \\mu сильно больше нуля (как я поняла), то мы пришли к успеху. Ищем невязку между двойственной ф-ей и исходной (как? спросить)"
   ]
  },
  {
   "cell_type": "code",
   "execution_count": 1,
   "metadata": {},
   "outputs": [],
   "source": [
    "import numpy as np\n",
    "import pandas as pd\n",
    "# np.set_printoptions(suppress=True) # чтоб без e\n",
    "from matplotlib import pyplot as plt\n",
    "from mpl_toolkits.mplot3d import axes3d, Axes3D\n",
    "import time\n",
    "from pylab import *\n",
    "from math import exp, log, sqrt\n",
    "\n",
    "%matplotlib inline"
   ]
  },
  {
   "cell_type": "code",
   "execution_count": 2,
   "metadata": {},
   "outputs": [
    {
     "name": "stdout",
     "output_type": "stream",
     "text": [
      "--- 0.020645856857299805 seconds ---\n"
     ]
    },
    {
     "data": {
      "text/html": [
       "<div>\n",
       "<style scoped>\n",
       "    .dataframe tbody tr th:only-of-type {\n",
       "        vertical-align: middle;\n",
       "    }\n",
       "\n",
       "    .dataframe tbody tr th {\n",
       "        vertical-align: top;\n",
       "    }\n",
       "\n",
       "    .dataframe thead th {\n",
       "        text-align: right;\n",
       "    }\n",
       "</style>\n",
       "<table border=\"1\" class=\"dataframe\">\n",
       "  <thead>\n",
       "    <tr style=\"text-align: right;\">\n",
       "      <th></th>\n",
       "      <th>i</th>\n",
       "      <th>j</th>\n",
       "      <th>amt</th>\n",
       "      <th>t</th>\n",
       "      <th>s</th>\n",
       "    </tr>\n",
       "  </thead>\n",
       "  <tbody>\n",
       "    <tr>\n",
       "      <th>0</th>\n",
       "      <td>1</td>\n",
       "      <td>1</td>\n",
       "      <td>40</td>\n",
       "      <td>26</td>\n",
       "      <td>2.2</td>\n",
       "    </tr>\n",
       "    <tr>\n",
       "      <th>1</th>\n",
       "      <td>1</td>\n",
       "      <td>2</td>\n",
       "      <td>4</td>\n",
       "      <td>49</td>\n",
       "      <td>8.1</td>\n",
       "    </tr>\n",
       "    <tr>\n",
       "      <th>2</th>\n",
       "      <td>1</td>\n",
       "      <td>3</td>\n",
       "      <td>3</td>\n",
       "      <td>35</td>\n",
       "      <td>6.8</td>\n",
       "    </tr>\n",
       "    <tr>\n",
       "      <th>3</th>\n",
       "      <td>1</td>\n",
       "      <td>4</td>\n",
       "      <td>2</td>\n",
       "      <td>75</td>\n",
       "      <td>9.3</td>\n",
       "    </tr>\n",
       "    <tr>\n",
       "      <th>4</th>\n",
       "      <td>1</td>\n",
       "      <td>5</td>\n",
       "      <td>2</td>\n",
       "      <td>30</td>\n",
       "      <td>8.0</td>\n",
       "    </tr>\n",
       "  </tbody>\n",
       "</table>\n",
       "</div>"
      ],
      "text/plain": [
       "   i  j  amt   t    s\n",
       "0  1  1   40  26  2.2\n",
       "1  1  2    4  49  8.1\n",
       "2  1  3    3  35  6.8\n",
       "3  1  4    2  75  9.3\n",
       "4  1  5    2  30  8.0"
      ]
     },
     "execution_count": 2,
     "metadata": {},
     "output_type": "execute_result"
    }
   ],
   "source": [
    "start_time = time.time()\n",
    "df = pd.read_csv('traffic_moscow.csv', header=None)\n",
    "df.columns = [\"i\", \"j\", \"amt\", \"t\", \"s\"]\n",
    "print(\"--- %s seconds ---\" % (time.time() - start_time))\n",
    "df.head()"
   ]
  },
  {
   "cell_type": "code",
   "execution_count": 3,
   "metadata": {},
   "outputs": [],
   "source": [
    "def make_index(i, j):\n",
    "    residents = [1, 2, 3, 4, 5, 6, 7, 8, 9, 10]\n",
    "    if int(i) in residents:\n",
    "        return 1 # живут в Москве\n",
    "    else:\n",
    "        return 0 # живут в области"
   ]
  },
  {
   "cell_type": "code",
   "execution_count": 4,
   "metadata": {},
   "outputs": [],
   "source": [
    "df['r'] = df.apply(lambda row: make_index(row['i'], \n",
    "                                              row['j']), axis=1) # добавили столбец"
   ]
  },
  {
   "cell_type": "code",
   "execution_count": 5,
   "metadata": {},
   "outputs": [],
   "source": [
    "def amt_for_residents(df): # умножили значения москвичей на 1.62\n",
    "    for i in range(df.shape[0]):\n",
    "        df.loc[i, 'amt'] *= 1.62 if df.loc[i, 'r'] == 1 else 1\n",
    "    return df\n",
    "\n",
    "df = amt_for_residents(df)"
   ]
  },
  {
   "cell_type": "code",
   "execution_count": 6,
   "metadata": {},
   "outputs": [
    {
     "name": "stdout",
     "output_type": "stream",
     "text": [
      "2571.36 2571.3599999999997\n"
     ]
    }
   ],
   "source": [
    "L_i = df.groupby('i')['amt'].sum().reset_index()\n",
    "W_j = df.groupby('j')['amt'].sum().reset_index()\n",
    "\n",
    "total_i = L_i['amt'].sum()\n",
    "total_j = W_j['amt'].sum()\n",
    "\n",
    "print(total_i, total_j)"
   ]
  },
  {
   "cell_type": "code",
   "execution_count": 7,
   "metadata": {},
   "outputs": [
    {
     "name": "stdout",
     "output_type": "stream",
     "text": [
      "(22, 2)\n"
     ]
    }
   ],
   "source": [
    "print(np.shape(W_j))"
   ]
  },
  {
   "cell_type": "markdown",
   "metadata": {},
   "source": [
    "Подготовили данные. Умножили значения москвичей на 1.62, т.к. их больше. $W_j$ и $L_i$ выкачали из датафрейма"
   ]
  },
  {
   "cell_type": "markdown",
   "metadata": {},
   "source": [
    "__ВОПРОС:__ По условию задачи $\\sum_{i, j}^{i, j}{x_{i, j}} = 1$. У нас 2571,36. Отнормировать?\n",
    "\n",
    "__ОТВЕТ__ Да. А перед тем как считать невязку -- вернуть как было"
   ]
  },
  {
   "cell_type": "code",
   "execution_count": 8,
   "metadata": {},
   "outputs": [],
   "source": [
    "def find_Lipschitz_constant(gamma):\n",
    "    return 1 / gamma\n",
    "    \n",
    "def find_gamma(df):\n",
    "    n = 21\n",
    "    t = 0\n",
    "    for i in range(n):\n",
    "        for j in range(n):\n",
    "            t += costs_func(i, j)\n",
    "    gamma = t/n\n",
    "    return gamma\n",
    "\n",
    "def costs_func(i, j): # возвращаем время T_i_j\n",
    "    rows = df.loc[df['i'] == i]\n",
    "    columns = rows.loc[df['j'] == j]\n",
    "    T = columns['t'] # потому что издержки -- это время\n",
    "    try:\n",
    "        return int(T)\n",
    "    except TypeError: # если не пересекается район i с районом j\n",
    "        return 0\n",
    "\n",
    "def dual_f(df, lmbd, zeta, L_i, W_j):\n",
    "    gamma = find_gamma(df)\n",
    "    n = 21 # число районов\n",
    "    value = 0\n",
    "    for i in range(n):\n",
    "        for j in range(n):\n",
    "            T = costs_func(i, j)\n",
    "            value += exp((lmbd[i] + zeta[j] - T)/gamma)\n",
    "    return np.dot(lmbd, L_i) + np.dot(zeta, W_j) + gamma * math.log(value)"
   ]
  },
  {
   "cell_type": "markdown",
   "metadata": {},
   "source": [
    "__ВОПРОС:__ Как искать липшицеву константу $M_1$ (L в лекции). В работе Мерузы сначала L=1, потом L=L/2. Так делать?\n",
    "\n",
    "__ОТВЕТ:__ $L = 1/\\gamma$, а $\\gamma = $ среднее арифметическое всех $T_{i, j}$"
   ]
  },
  {
   "cell_type": "markdown",
   "metadata": {},
   "source": [
    "__ВОПРОС:__ Забыла записать как считается гамма, спросить и ЗАПИСАТЬ\n",
    "__ОТВЕТ:__ $\\gamma = $ среднее арифметическое всех $T_{i, j}$"
   ]
  },
  {
   "cell_type": "markdown",
   "metadata": {},
   "source": [
    "__ВОПРОС:__ мю и лямбда векторы или не векторы.\n",
    "1. Если векторы, как считается корень из мю в градиенте в FGM\n",
    "2. Если не векторы, скалярное произведение ли в двойственной задаче?\n",
    "\n",
    "__ОТВЕТ:__ Неудачное обозначение.\n",
    "1. $\\mu$ и $\\lambda$ из двойственной функции и из выражения для градиентного спуска -- это разные вещи.\n",
    "2. $\\mu$ и $\\lambda$ из двойственной функции равны:\n",
    "\n",
    "$(\\lambda_1, ..., \\lambda_n) = (x_1, ...., x_n)$\n",
    "\n",
    "$(\\mu_1, ..., \\mu_n) = (x_{n+1}, ...., x_{2n})$\n",
    "3. $\\mu$ из двойственной функции ищется как сначала $\\mu = 1$, потом $\\mu$ = $\\mu / 2$ и т.д. Как ищется липшицева константа L написано выше"
   ]
  },
  {
   "cell_type": "code",
   "execution_count": 9,
   "metadata": {},
   "outputs": [],
   "source": [
    "def find_grad(M_1, mu, x, x_prev, lmbd, gamma, L_i, W_j):\n",
    "    v =  x + ((sqrt(M_1) - sqrt(mu))/(sqrt(M_1) + sqrt(mu)))*(x - x_prev)\n",
    "    f_v = dual_f(lmbd=v, mu=mu, gamma=gamma, L_i=L_i, W_j=W_j)\n",
    "    return np.gradient(f_v)\n",
    "\n",
    "def FGM(x, x_prev, M_1, mu):\n",
    "    grad_f = find_grad(L, mu, x, x_prev)\n",
    "    x_next = x - 1/M_1* grad_f + ((sqrt(M_1) - sqrt(mu))/(sqrt(M_1) + sqrt(mu)))*(x - x_prev)\n",
    "    return x_next"
   ]
  },
  {
   "cell_type": "code",
   "execution_count": null,
   "metadata": {},
   "outputs": [],
   "source": [
    "n = L_i.shape[0]\n",
    "lmbd = np.ones(n)\n",
    "zeta = np.ones(n)\n",
    "\n",
    "gamma = find_gamma(df)\n",
    "M_1 = find_Lipschitz_constant(gamma)\n",
    "x_next = np.ones(2*n)\n",
    "x_prev = np.ones(2*n)\n",
    "x = np.ones(2*n)\n",
    "mu = 1.0\n",
    "mu_list = [mu]\n",
    "x_list = [x_prev, x, x_next]\n",
    "\n",
    "for i in range(2*n):\n",
    "    x_next = FGM(x, x_prev, M_1, mu)\n",
    "    x_prev = x\n",
    "    x = x_next\n",
    "    mu = mu/2\n",
    "    mu_list.append(mu)\n",
    "    x_list.append(x_next)"
   ]
  },
  {
   "cell_type": "code",
   "execution_count": null,
   "metadata": {},
   "outputs": [],
   "source": []
  }
 ],
 "metadata": {
  "kernelspec": {
   "display_name": "Python 3",
   "language": "python",
   "name": "python3"
  },
  "language_info": {
   "codemirror_mode": {
    "name": "ipython",
    "version": 3
   },
   "file_extension": ".py",
   "mimetype": "text/x-python",
   "name": "python",
   "nbconvert_exporter": "python",
   "pygments_lexer": "ipython3",
   "version": "3.7.4"
  }
 },
 "nbformat": 4,
 "nbformat_minor": 2
}
