{
 "cells": [
  {
   "cell_type": "code",
   "execution_count": 3,
   "metadata": {},
   "outputs": [],
   "source": [
    "import pandas as pd\n",
    "import numpy as np\n",
    "import matplotlib.pyplot as plt\n",
    "\n",
    "from scipy.stats import entropy\n",
    "import matplotlib.pyplot as plt\n",
    "from mpl_toolkits.mplot3d import axes3d, Axes3D\n",
    "np.set_printoptions(suppress=True)"
   ]
  },
  {
   "cell_type": "code",
   "execution_count": 4,
   "metadata": {},
   "outputs": [],
   "source": [
    "raw_data = np.genfromtxt('traffic_moscow.csv', delimiter=',')\n",
    "\n",
    "n_areas = int(np.max(raw_data[:, 0]))\n",
    "correspondence_matrix = np.full(\n",
    "            (n_areas, n_areas), np.nan, dtype=np.double\n",
    ")\n",
    "T = np.full(\n",
    "    (n_areas, n_areas), np.nan, dtype=np.double\n",
    ")\n",
    "amt = np.full(\n",
    "    (n_areas, n_areas), np.nan, dtype=np.double\n",
    ")\n",
    "for raw_data_line in raw_data:\n",
    "    i, j = int(raw_data_line[0]) - 1, int(raw_data_line[1]) - 1\n",
    "    correspondence_matrix[i, j] = raw_data_line[2]\n",
    "    T[i, j] = raw_data_line[3]\n",
    "    amt[i, j] = raw_data_line[4]\n",
    "    \n",
    "L = np.nansum(correspondence_matrix, axis=1),\n",
    "W = np.nansum(correspondence_matrix, axis=0)\n",
    "\n",
    "people_num = np.nansum(L)\n",
    "L = L / np.nansum(L)\n",
    "W = W / np.nansum(W)"
   ]
  },
  {
   "cell_type": "code",
   "execution_count": 21,
   "metadata": {},
   "outputs": [],
   "source": [
    "def Sinkhorn(k, beta, alpha, lambda_W_prev, lambda_L_prev):    \n",
    "    lambda_L = np.zeros((n, ), dtype=float)\n",
    "    lambda_W = np.zeros((n, ), dtype=float)\n",
    "    \n",
    "    if k % 2 == 0:\n",
    "        lambda_W = lambda_W_prev\n",
    "        lambda_L = np.log(np.nansum(\n",
    "            (np.exp(-lambda_W_prev - 1 - cost_matrix)).T \n",
    "            / L, axis = 0\n",
    "            ))\n",
    "    else:\n",
    "        lambda_L = lambda_L_prev\n",
    "        lambda_W = np.log(np.nansum(\n",
    "            (np.exp(-lambda_L - 1 - cost_matrix.T)).T\n",
    "            / W, axis=0\n",
    "            ))\n",
    "        \n",
    "    return lambda_W, lambda_L\n",
    "\n",
    "def iterate(beta, alpha, L, W, num_iter, eps):\n",
    "    \n",
    "    lambda_L = np.zeros((n, ), dtype=float)\n",
    "    lambda_W = np.zeros((n, ), dtype=float)\n",
    "    \n",
    "    for k in range(num_iter):\n",
    "        \n",
    "        lambda_Wn, lambda_Ln = Sinkhorn(k, beta, alpha, lambda_W, lambda_L)\n",
    "        \n",
    "        delta = np.linalg.norm(np.concatenate((lambda_Ln - lambda_L, \n",
    "                                               lambda_Wn - lambda_W)))\n",
    "        \n",
    "        lambda_L, lambda_W = lambda_Ln, lambda_Wn \n",
    "        \n",
    "        if delta < eps:\n",
    "            break\n",
    "    \n",
    "    r = error_d_i_j(lambda_Ln, lambda_Wn, beta, alpha)\n",
    "    return r\n",
    "\n",
    "def error_d_i_j(lambda_L, lambda_W, beta, alpha):\n",
    "    er = np.exp( -1 - cost_matrix - (np.reshape(lambda_L, (22, 1)) + lambda_W))\n",
    "    return er * people_num"
   ]
  },
  {
   "cell_type": "code",
   "execution_count": 33,
   "metadata": {},
   "outputs": [],
   "source": [
    "n = 22\n",
    "num_iter = 1000\n",
    "alpha, beta = 1.0, 1.0\n",
    "beta_range = np.arange(0.0, 0.5, 0.0001)\n",
    "cost_matrix = T * beta * alpha\n",
    "\n",
    "res_list = []\n",
    "\n",
    "for beta in beta_range:\n",
    "    cost_matrix = T * beta * alpha\n",
    "    rec = iterate(beta, alpha, L, W, num_iter, eps=10**(-4))\n",
    "    res_list.append(np.linalg.norm(np.nan_to_num(rec, nan = 0.0) \n",
    "                                                 - np.nan_to_num(correspondence_matrix, nan=0.0)))"
   ]
  },
  {
   "cell_type": "code",
   "execution_count": null,
   "metadata": {},
   "outputs": [],
   "source": []
  },
  {
   "cell_type": "code",
   "execution_count": 34,
   "metadata": {},
   "outputs": [
    {
     "data": {
      "text/plain": [
       "(85.9518502502735, 763, 0.0763)"
      ]
     },
     "execution_count": 34,
     "metadata": {},
     "output_type": "execute_result"
    }
   ],
   "source": [
    "np.min(res_list), res_list.index(np.min(res_list)), beta_range[res_list.index(np.min(res_list))]"
   ]
  },
  {
   "cell_type": "code",
   "execution_count": 42,
   "metadata": {},
   "outputs": [],
   "source": [
    "best_alpha = beta_range[res_list.index(np.min(res_list))]\n",
    "best_cor_matrix = iterate(beta, best_alpha, L, W, num_iter, eps=10**(-4))"
   ]
  },
  {
   "cell_type": "code",
   "execution_count": 36,
   "metadata": {},
   "outputs": [
    {
     "data": {
      "text/plain": [
       "138.3150006032647"
      ]
     },
     "execution_count": 36,
     "metadata": {},
     "output_type": "execute_result"
    }
   ],
   "source": [
    "res_list[0] - res_list[res_list.index(np.min(res_list))]"
   ]
  },
  {
   "cell_type": "code",
   "execution_count": 38,
   "metadata": {},
   "outputs": [
    {
     "data": {
      "image/png": "[encoded data removed]",
      "text/plain": [
       "<Figure size 432x288 with 1 Axes>"
      ]
     },
     "metadata": {
      "needs_background": "light"
     },
     "output_type": "display_data"
    }
   ],
   "source": [
    "plt.ticklabel_format(useOffset=False)\n",
    "\n",
    "plt.scatter(beta_range, res_list)\n",
    "plt.ylabel('Невязка')\n",
    "plt.xlabel('alpha')\n",
    "plt.show()"
   ]
  },
  {
   "cell_type": "code",
   "execution_count": null,
   "metadata": {},
   "outputs": [],
   "source": []
  }
 ],
 "metadata": {
  "kernelspec": {
   "display_name": "Python 3",
   "language": "python",
   "name": "python3"
  },
  "language_info": {
   "codemirror_mode": {
    "name": "ipython",
    "version": 3
   },
   "file_extension": ".py",
   "mimetype": "text/x-python",
   "name": "python",
   "nbconvert_exporter": "python",
   "pygments_lexer": "ipython3",
   "version": "3.7.3"
  }
 },
 "nbformat": 4,
 "nbformat_minor": 2
}
