{
 "cells": [
  {
   "cell_type": "code",
   "execution_count": 1,
   "metadata": {},
   "outputs": [],
   "source": [
    "import pandas as pd\n",
    "import numpy as np\n",
    "import matplotlib.pyplot as plt\n",
    "import tensorflow as tf\n",
    "import tensorflow.distributions\n",
    "from tensorflow.distributions import Dirichlet, Multinomial\n",
    "from scipy.stats import entropy\n",
    "import matplotlib.pyplot as plt\n",
    "from mpl_toolkits.mplot3d import axes3d, Axes3D\n",
    "np.set_printoptions(suppress=True)"
   ]
  },
  {
   "cell_type": "code",
   "execution_count": 2,
   "metadata": {},
   "outputs": [],
   "source": [
    "df = pd.read_csv('traffic_moscow.csv', header=None)\n",
    "df.columns = [\"i\", \"j\", \"amt\", \"t\", \"s\"]"
   ]
  },
  {
   "cell_type": "code",
   "execution_count": 3,
   "metadata": {},
   "outputs": [],
   "source": [
    "def costs_func(i, j, column):\n",
    "    rows = df.loc[df['i'] == i]\n",
    "    columns = rows.loc[df['j'] == j]\n",
    "    c = columns[column]\n",
    "    try:\n",
    "        c = int(c)\n",
    "        return c\n",
    "    except TypeError: # если не пересекается район i с районом j\n",
    "        return 0\n",
    "\n",
    "def create_T_d():\n",
    "    T = np.zeros((22, 22))\n",
    "    d = np.zeros((22, 22))\n",
    "    \n",
    "    for i in range(0, 22):\n",
    "        for j in range(0, 22):\n",
    "            \n",
    "            T[i][j] = costs_func(i, j, 't')\n",
    "            d[i][j] = costs_func(i, j, 'amt')\n",
    "    \n",
    "    return T, d"
   ]
  },
  {
   "cell_type": "code",
   "execution_count": 4,
   "metadata": {},
   "outputs": [
    {
     "name": "stderr",
     "output_type": "stream",
     "text": [
      "/usr/local/Cellar/ipython/7.1.1/libexec/vendor/lib/python3.7/site-packages/ipykernel_launcher.py:8: FutureWarning: Method .as_matrix will be removed in a future version. Use .values instead.\n",
      "  \n",
      "/usr/local/Cellar/ipython/7.1.1/libexec/vendor/lib/python3.7/site-packages/ipykernel_launcher.py:9: FutureWarning: Method .as_matrix will be removed in a future version. Use .values instead.\n",
      "  if __name__ == '__main__':\n"
     ]
    }
   ],
   "source": [
    "num_iter = 2500\n",
    "alpha, beta = 1.0, 1.0\n",
    "n = 22\n",
    "\n",
    "L_i = df.groupby('i')['amt'].sum().reset_index()\n",
    "W_j = df.groupby('j')['amt'].sum().reset_index()\n",
    "\n",
    "W = W_j.as_matrix()[:, 1]\n",
    "L = L_i.as_matrix()[:, 1]\n",
    "\n",
    "people_num = np.sum(W)\n",
    "\n",
    "W = W / np.sum(W)\n",
    "L = L / np.sum(L)\n",
    "\n",
    "T, d = create_T_d()"
   ]
  },
  {
   "cell_type": "code",
   "execution_count": 57,
   "metadata": {},
   "outputs": [],
   "source": [
    "def Sinkhorn(k, lambda_W_prev, lambda_L_prev):\n",
    "    summa = 0\n",
    "    \n",
    "    lambda_L = np.zeros((n, ), dtype=float)\n",
    "    lambda_W = np.zeros((n, ), dtype=float)\n",
    "    \n",
    "    if k % 2 == 0:\n",
    "        for i in range(n):\n",
    "            for j in range(n):\n",
    "                summa += ( np.exp(-lambda_W_prev[j]) / \n",
    "                            L[i] * np.exp(1 + beta * alpha * T[i][j]) )\n",
    "            lambda_L[i] = np.log(summa)\n",
    "            summa = 0\n",
    "        lambda_W = lambda_W_prev\n",
    "    else:\n",
    "        for j in range(n):\n",
    "            for i in range(n):\n",
    "                summa += ( np.exp(-lambda_L_prev[i]) / \n",
    "                            W[j] * np.exp(1 + beta * alpha * T[i][j]) )\n",
    "            lambda_W[j] = np.log(summa)\n",
    "            summa = 0\n",
    "        lambda_L = lambda_L_prev\n",
    "        \n",
    "    return lambda_W, lambda_L\n",
    "\n",
    "def iterate(beta, alpha, L, W, num_iter, eps):\n",
    "    \n",
    "    lambda_L = np.zeros((n, ), dtype=float)\n",
    "    lambda_W = np.zeros((n, ), dtype=float)\n",
    "    \n",
    "    for k in range(num_iter):\n",
    "        \n",
    "        lambda_Wn, lambda_Ln = Sinkhorn(k, lambda_W, lambda_L)\n",
    "        \n",
    "        delta = np.linalg.norm(np.concatenate((lambda_Ln - lambda_L, \n",
    "                                               lambda_Wn - lambda_W)))\n",
    "        \n",
    "        if delta < eps:\n",
    "            break\n",
    "            \n",
    "        lambda_L, lambda_W = lambda_Ln, lambda_Wn \n",
    "    \n",
    "    r = error_d_i_j(lambda_Ln, lambda_Wn, beta, alpha)\n",
    "    \n",
    "    return r\n",
    "\n",
    "def error_d_i_j(lambda_L, lambda_W, beta, alpha):\n",
    "    er = np.exp( -1 - T - (np.reshape(lambda_L, (22, 1)) + lambda_W))\n",
    "\n",
    "    return er * people_num "
   ]
  },
  {
   "cell_type": "code",
   "execution_count": 84,
   "metadata": {},
   "outputs": [],
   "source": [
    "num_iter = 1500\n",
    "alpha = 1.0\n",
    "beta_range = np.arange(0.0, 0.1, 10**(-4))\n",
    "res_list = []\n",
    "\n",
    "for beta in beta_range:\n",
    "    rec = iterate(beta, alpha, L, W, num_iter, eps=0.01)\n",
    "    res_list.append(np.linalg.norm(d - rec) / 22**2)"
   ]
  },
  {
   "cell_type": "code",
   "execution_count": 85,
   "metadata": {},
   "outputs": [
    {
     "data": {
      "text/plain": [
       "(0.5710339751946193, 138, 0.013800000000000002)"
      ]
     },
     "execution_count": 85,
     "metadata": {},
     "output_type": "execute_result"
    }
   ],
   "source": [
    "np.min(res_list), res_list.index(np.min(res_list)), beta_range[res_list.index(np.min(res_list))]"
   ]
  },
  {
   "cell_type": "code",
   "execution_count": 81,
   "metadata": {},
   "outputs": [
    {
     "name": "stdout",
     "output_type": "stream",
     "text": [
      "(1000,) (1000,)\n"
     ]
    }
   ],
   "source": [
    "print(np.shape(beta_range), np.shape(res_list))"
   ]
  },
  {
   "cell_type": "code",
   "execution_count": 82,
   "metadata": {},
   "outputs": [
    {
     "data": {
      "image/png": "[encoded data removed]",
      "text/plain": [
       "<Figure size 432x288 with 1 Axes>"
      ]
     },
     "metadata": {
      "needs_background": "light"
     },
     "output_type": "display_data"
    },
    {
     "data": {
      "text/plain": [
       "<Figure size 432x288 with 0 Axes>"
      ]
     },
     "metadata": {},
     "output_type": "display_data"
    }
   ],
   "source": [
    "plt.ticklabel_format(useOffset=False)\n",
    "\n",
    "plt.scatter(beta_range, res_list)\n",
    "plt.ylabel('Невязка')\n",
    "plt.xlabel('alpha')\n",
    "plt.show()\n",
    "plt.savefig('/Users/kate/Documents/MIPT/ТРАНСПОРТНЫЕ ПОТОКИ/Jupyter:Data/img/1.png')"
   ]
  },
  {
   "cell_type": "code",
   "execution_count": null,
   "metadata": {},
   "outputs": [],
   "source": []
  },
  {
   "cell_type": "code",
   "execution_count": null,
   "metadata": {},
   "outputs": [],
   "source": [
    "A = np.array([[1, 2], [2, 4]])\n",
    "B = np.array([[5, 6], [7, 8]])"
   ]
  },
  {
   "cell_type": "code",
   "execution_count": null,
   "metadata": {},
   "outputs": [],
   "source": [
    "A*B"
   ]
  },
  {
   "cell_type": "code",
   "execution_count": null,
   "metadata": {},
   "outputs": [],
   "source": [
    "np.dot(A, B)"
   ]
  },
  {
   "cell_type": "code",
   "execution_count": 215,
   "metadata": {},
   "outputs": [
    {
     "data": {
      "text/plain": [
       "123"
      ]
     },
     "execution_count": 215,
     "metadata": {},
     "output_type": "execute_result"
    }
   ],
   "source": [
    "np.sum(np.dot(A, B))"
   ]
  },
  {
   "cell_type": "code",
   "execution_count": null,
   "metadata": {},
   "outputs": [],
   "source": []
  }
 ],
 "metadata": {
  "kernelspec": {
   "display_name": "Python 3",
   "language": "python",
   "name": "python3"
  },
  "language_info": {
   "codemirror_mode": {
    "name": "ipython",
    "version": 3
   },
   "file_extension": ".py",
   "mimetype": "text/x-python",
   "name": "python",
   "nbconvert_exporter": "python",
   "pygments_lexer": "ipython3",
   "version": "3.7.4"
  }
 },
 "nbformat": 4,
 "nbformat_minor": 2
}
